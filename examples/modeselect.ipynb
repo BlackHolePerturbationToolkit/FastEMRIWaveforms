{
    "cells": [
        {
            "attachments": {},
            "cell_type": "markdown",
            "id": "ac239cd1-f884-4e1c-9388-4792e14523f7",
            "metadata": {},
            "source": [
                "# Mode Selection"
            ]
        },
        {
            "attachments": {},
            "cell_type": "markdown",
            "id": "aeabdaec-2798-484a-9082-bbd16b39891d",
            "metadata": {},
            "source": [
                "The mode selection module is paramount to the computational efficiency of this model. Below we show how we perform this selection operation by moving from a set of amplitudes to only those that contribute. "
            ]
        },
        {
            "attachments": {},
            "cell_type": "markdown",
            "id": "bb073cd3-50c2-48d2-9480-94ee5812c2a3",
            "metadata": {},
            "source": [
                "### Mode selection by power contribution"
            ]
        },
        {
            "attachments": {},
            "cell_type": "markdown",
            "id": "6c29b9a9-3afd-4811-bb1d-5b89b7c0eb60",
            "metadata": {},
            "source": [
                "Modes can also be weighted by a Power Spectral Density (PSD) function from your favorite sensitivity curve. "
            ]
        },
        {
            "cell_type": "code",
            "execution_count": 1,
            "id": "4e745231",
            "metadata": {},
            "outputs": [],
            "source": [
                "import numpy as np\n",
                "import matplotlib.pyplot as plt\n",
                "\n",
                "import few\n",
                "\n",
                "from few.trajectory.inspiral import EMRIInspiral\n",
                "from few.trajectory.ode import SchwarzEccFlux\n",
                "from few.amplitude.romannet import RomanAmplitude\n",
                "from few.utils.ylm import GetYlms\n",
                "from few.utils.modeselector import ModeSelector\n",
                "\n",
                "# tune few configuration\n",
                "cfg_set = few.get_config_setter(reset=True)\n",
                "\n",
                "# Uncomment if you want to force CPU or GPU usage\n",
                "# Leave commented to let FEW automatically select the best available hardware\n",
                "#   - To force CPU usage:\n",
                "# cfg_set.enable_backends(\"cpu\")\n",
                "#   - To force GPU usage with CUDA 12.x\n",
                "# cfg_set.enable_backends(\"cuda12x\", \"cpu\")\n",
                "#   - To force GPU usage with CUDA 11.x\n",
                "# cfg_set.enable_backends(\"cuda11x\", \"cpu\")\n",
                "\n",
                "cfg_set.set_log_level(\"info\");"
            ]
        },
        {
            "cell_type": "code",
            "execution_count": 2,
            "id": "6d77f2f0-c925-4a75-b9e2-ba8b1c71c16f",
            "metadata": {},
            "outputs": [
                {
                    "name": "stdout",
                    "output_type": "stream",
                    "text": [
                        "We reduced the mode content from 3843 modes to 43 modes.\n"
                    ]
                }
            ],
            "source": [
                "# first, lets get amplitudes for a trajectory\n",
                "traj = EMRIInspiral(func=SchwarzEccFlux)\n",
                "\n",
                "# parameters\n",
                "M = 1e5\n",
                "mu = 1e1\n",
                "p0 = 10.0\n",
                "e0 = 0.7\n",
                "theta = np.pi / 3.0\n",
                "phi = np.pi / 2.0\n",
                "\n",
                "t, p, e, x, Phi_phi, Phi_theta, Phi_r = traj(M, mu, 0.0, p0, e0, 1.0)\n",
                "\n",
                "# get amplitudes along trajectory\n",
                "amp = RomanAmplitude()\n",
                "\n",
                "# Schwarzschild\n",
                "a = 0.0\n",
                "\n",
                "teuk_modes = amp(a, p, e, x)\n",
                "\n",
                "# get ylms\n",
                "ylm_gen = GetYlms(assume_positive_m=False)\n",
                "ylms = ylm_gen(amp.unique_l, amp.unique_m, theta, phi).copy()[amp.inverse_lm]\n",
                "\n",
                "# select modes\n",
                "\n",
                "mode_selector = ModeSelector(\n",
                "    amp.l_arr_no_mask, amp.m_arr_no_mask, amp.n_arr_no_mask, force_backend=\"cpu\"\n",
                ")\n",
                "\n",
                "eps = 1e-1  # tolerance on mode contribution to total power\n",
                "\n",
                "modeinds = [amp.l_arr, amp.m_arr, amp.n_arr]\n",
                "(teuk_modes_in, ylms_in, ls, ms, ns) = mode_selector(\n",
                "    teuk_modes, ylms, modeinds, eps=eps\n",
                ")\n",
                "\n",
                "print(\n",
                "    \"We reduced the mode content from {} modes to {} modes.\".format(\n",
                "        teuk_modes.shape[1], teuk_modes_in.shape[1]\n",
                "    )\n",
                ")"
            ]
        },
        {
            "attachments": {},
            "cell_type": "markdown",
            "id": "d4c9c705-6ff0-4344-98f5-2df726f5399d",
            "metadata": {},
            "source": [
                "### Mode selection by noise-weighted power contribution"
            ]
        },
        {
            "cell_type": "code",
            "execution_count": null,
            "id": "27d8205f-7854-47c6-90a3-3e7e1a4ffe2c",
            "metadata": {},
            "outputs": [
                {
                    "name": "stderr",
                    "output_type": "stream",
                    "text": [
                        "New t array outside bounds of input t array. These points are filled with edge values.\n"
                    ]
                },
                {
                    "name": "stdout",
                    "output_type": "stream",
                    "text": [
                        "We reduced the mode content from 3843 modes to 30 modes when using noise-weighting.\n"
                    ]
                },
                {
                    "data": {
                        "image/png": "[encoded data removed]",
                        "text/plain": [
                            "<Figure size 640x480 with 1 Axes>"
                        ]
                    },
                    "metadata": {},
                    "output_type": "display_data"
                }
            ],
            "source": [
                "from few.summation.interpolatedmodesum import CubicSplineInterpolant\n",
                "\n",
                "# produce sensitivity function\n",
                "noise = np.genfromtxt(\"files/LPA.txt\", names=True)\n",
                "f, PSD = (\n",
                "    np.asarray(noise[\"f\"], dtype=np.float64),\n",
                "    np.asarray(noise[\"ASD\"], dtype=np.float64) ** 2,\n",
                ")\n",
                "\n",
                "sens_fn = CubicSplineInterpolant(f, PSD)\n",
                "\n",
                "# select modes with noise weighting\n",
                "\n",
                "# provide sensitivity function kwarg\n",
                "mode_selector_noise_weighted = ModeSelector(\n",
                "    amp.l_arr_no_mask, amp.m_arr_no_mask, amp.n_arr_no_mask, sensitivity_fn=sens_fn\n",
                ")\n",
                "\n",
                "eps = 1e-1  # tolerance on mode contribution to total power\n",
                "\n",
                "fund_freq_args = (M, a, p, e, x, t)\n",
                "\n",
                "modeinds = [amp.l_arr, amp.m_arr, amp.n_arr]\n",
                "(teuk_modes_in, ylms_in, ls, ms, ns) = mode_selector_noise_weighted(\n",
                "    teuk_modes, ylms, modeinds, fund_freq_args=fund_freq_args, eps=eps\n",
                ")\n",
                "\n",
                "print(\n",
                "    \"We reduced the mode content from {} modes to {} modes when using noise-weighting.\".format(\n",
                "        teuk_modes.shape[1], teuk_modes_in.shape[1]\n",
                "    )\n",
                ")\n",
                "# plot histogram of modes\n",
                "plt.figure()\n",
                "plt.hist(ns, bins=100, label=\"n\")\n",
                "plt.xlabel(\"n\")\n",
                "plt.ylabel(\"Number of radial modes\")\n",
                "plt.show()\n",
                "\n",
                "plt.figure()\n",
                "plt.hist(ms, bins=100, label=\"n\")\n",
                "plt.xlabel(\"n\")\n",
                "plt.ylabel(\"Number of azimuthal modes\")\n",
                "plt.show()"
            ]
        },
        {
            "attachments": {},
            "cell_type": "markdown",
            "id": "29b8ae88-5120-4389-8985-0bfa0e985bdd",
            "metadata": {},
            "source": [
                "### Compare the two waves with and without noise-weighting"
            ]
        },
        {
            "cell_type": "code",
            "execution_count": null,
            "id": "78787276-fc0b-4bbf-be78-2c8b2570bc4c",
            "metadata": {},
            "outputs": [],
            "source": [
                "from few.waveform import FastSchwarzschildEccentricFlux\n",
                "from few.utils.utility import get_mismatch\n",
                "\n",
                "\n",
                "noise_weighted_mode_selector_kwargs = dict(sensitivity_fn=sens_fn)\n",
                "\n",
                "inspiral_kwargs = {\n",
                "    \"DENSE_STEPPING\": 0,  # we want a sparsely sampled trajectory\n",
                "    \"buffer_length\": int(1e3),  # all of the trajectories will be well under len = 1000\n",
                "}\n",
                "\n",
                "# keyword arguments for inspiral generator (RomanAmplitude)\n",
                "amplitude_kwargs = {\n",
                "    \"buffer_length\": int(1e3),  # all of the trajectories will be well under len = 1000\n",
                "}\n",
                "\n",
                "# keyword arguments for Ylm generator (GetYlms)\n",
                "Ylm_kwargs = {\n",
                "    \"assume_positive_m\": False  # if we assume positive m, it will generate negative m for all m>0\n",
                "}\n",
                "\n",
                "# keyword arguments for summation generator (InterpolatedModeSum)\n",
                "sum_kwargs = {\n",
                "    \"pad_output\": False,\n",
                "}\n",
                "\n",
                "few_base = FastSchwarzschildEccentricFlux(\n",
                "    inspiral_kwargs=inspiral_kwargs,\n",
                "    amplitude_kwargs=amplitude_kwargs,\n",
                "    Ylm_kwargs=Ylm_kwargs,\n",
                "    sum_kwargs=sum_kwargs,\n",
                ")\n",
                "\n",
                "few_noise_weighted = FastSchwarzschildEccentricFlux(\n",
                "    inspiral_kwargs=inspiral_kwargs,\n",
                "    amplitude_kwargs=amplitude_kwargs,\n",
                "    Ylm_kwargs=Ylm_kwargs,\n",
                "    sum_kwargs=sum_kwargs,\n",
                "    mode_selector_kwargs=noise_weighted_mode_selector_kwargs,\n",
                ")\n",
                "\n",
                "M = 1e6\n",
                "mu = 1e1\n",
                "p0 = 12.0\n",
                "e0 = 0.3\n",
                "theta = np.pi / 3.0\n",
                "phi = np.pi / 4.0\n",
                "dist = 1.0\n",
                "dt = 10.0\n",
                "T = 0.001\n",
                "\n",
                "wave_base = few_base(M, mu, p0, e0, theta, phi, dist=dist, dt=dt, T=T, eps=1e-2)\n",
                "wave_weighted = few_noise_weighted(\n",
                "    M, mu, p0, e0, theta, phi, dist=dist, dt=dt, T=T, eps=1e-2\n",
                ")\n",
                "\n",
                "plt.plot(wave_base.real, label=\"base\")\n",
                "plt.plot(wave_weighted.real, label=\"noise-weighted\")\n",
                "plt.legend()\n",
                "print(\"mismatch:\", get_mismatch(wave_base, wave_weighted))\n",
                "print(\"base modes:\", few_base.num_modes_kept)\n",
                "print(\"noise-weighted modes:\", few_noise_weighted.num_modes_kept)"
            ]
        },
        {
            "attachments": {},
            "cell_type": "markdown",
            "id": "afb70d37-ea69-480e-873b-dce6168690dc",
            "metadata": {},
            "source": [
                "### Specific mode selection"
            ]
        },
        {
            "attachments": {},
            "cell_type": "markdown",
            "id": "51cc143c-4e89-4a69-a559-69495862bd1b",
            "metadata": {},
            "source": [
                "The user can also select a specific set of modes to use in the waveform."
            ]
        },
        {
            "cell_type": "code",
            "execution_count": null,
            "id": "80bef8b1-2012-41da-ae42-8d0348b43d65",
            "metadata": {},
            "outputs": [],
            "source": [
                "# l = 2, m = 2 wave\n",
                "specific_modes = [(2, 2, n) for n in range(-30, 31)]\n",
                "\n",
                "wave_22 = few_base(\n",
                "    M, mu, p0, e0, theta, phi, dist=dist, dt=dt, T=T, mode_selection=specific_modes\n",
                ")\n",
                "\n",
                "plt.plot(wave_22.real)\n",
                "\n",
                "print(\"mismatch with full wave:\", get_mismatch(wave_22, wave_base))"
            ]
        },
        {
            "attachments": {},
            "cell_type": "markdown",
            "id": "31e4d556-6fc1-44f8-bebd-7dd7e66f8f12",
            "metadata": {},
            "source": [
                "### Turn off ($-m$)"
            ]
        },
        {
            "attachments": {},
            "cell_type": "markdown",
            "id": "50c6d486-b640-445f-a267-db5a74aba714",
            "metadata": {},
            "source": [
                "By default, symmetry is used to generate $-m$ modes. To turn this off and only use modes with ($m$), provide `False` to the `include_minus_m` kwarg. This only affects the waveform when `mode_selection` is a list of specific modes. "
            ]
        },
        {
            "cell_type": "code",
            "execution_count": null,
            "id": "02df5c52-76d9-471f-af8a-2ce49931d32e",
            "metadata": {
                "scrolled": true
            },
            "outputs": [],
            "source": [
                "%matplotlib inline\n",
                "# l = 2, m = 2 wave without m = -2\n",
                "specific_modes = [(2, 2, n) for n in range(-30, 31)]\n",
                "\n",
                "specific_modes_minus_m = [(2, -2, n) for n in range(-30, 31)]\n",
                "\n",
                "wave_22_pos_m = few_base(\n",
                "    M,\n",
                "    mu,\n",
                "    p0,\n",
                "    e0,\n",
                "    theta,\n",
                "    phi,\n",
                "    dist=dist,\n",
                "    dt=dt,\n",
                "    T=0.001,\n",
                "    mode_selection=specific_modes,\n",
                "    include_minus_m=False,\n",
                ")\n",
                "\n",
                "wave_22_minus_m = few_base(\n",
                "    M,\n",
                "    mu,\n",
                "    p0,\n",
                "    e0,\n",
                "    theta,\n",
                "    phi,\n",
                "    dist=dist,\n",
                "    dt=dt,\n",
                "    T=0.001,\n",
                "    mode_selection=specific_modes_minus_m,\n",
                "    include_minus_m=False,\n",
                ")\n",
                "\n",
                "plt.plot(wave_22_pos_m.real, label=\"+m\")\n",
                "plt.plot(wave_22_minus_m.real, label=\"-m\", ls=\"--\")\n",
                "plt.legend()\n",
                "print(\n",
                "    \"mismatch with 22 wave with + and - m:\",\n",
                "    get_mismatch(wave_22_minus_m, wave_22_pos_m),\n",
                ")\n",
                "\n",
                "print(\n",
                "    \"mismatch with 22 original wave with adding + and - m\",\n",
                "    get_mismatch(wave_22, wave_22_pos_m + wave_22_minus_m),\n",
                ")"
            ]
        }
    ],
    "metadata": {
        "kernelspec": {
            "display_name": "fuck",
            "language": "python",
            "name": "python3"
        },
        "language_info": {
            "codemirror_mode": {
                "name": "ipython",
                "version": 3
            },
            "file_extension": ".py",
            "mimetype": "text/x-python",
            "name": "python",
            "nbconvert_exporter": "python",
            "pygments_lexer": "ipython3",
            "version": "3.13.2"
        }
    },
    "nbformat": 4,
    "nbformat_minor": 5
}
