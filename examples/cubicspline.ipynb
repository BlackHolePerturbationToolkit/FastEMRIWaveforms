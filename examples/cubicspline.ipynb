{
    "cells": [
        {
            "attachments": {},
            "cell_type": "markdown",
            "id": "8414ba1c-c56d-46e3-a099-d00044905eda",
            "metadata": {},
            "source": [
                "# Parallelized Cubic Spline Interpolation"
            ]
        },
        {
            "attachments": {},
            "cell_type": "markdown",
            "id": "1cf56b82-e6a1-405c-ba54-9a31decb1f64",
            "metadata": {},
            "source": [
                "A part of the Fast EMRI waveforms package is parallelized cubic spline interpolation. This generally means fitting and evaluating many splines in parallel with the same input x array. This is available for GPUs and CPUs (not parallelized for CPU). The user can perform this operation entirely in Python while leveraging [CuPy](https://cupy.dev/) for GPUs. However, the evaluation will not be as efficient as when it is implemented properly in a customized kernel. The spline class ([CubicSplineInterpolant](https://bhptoolkit.org/FastEMRIWaveforms/user/sum.html#few.summation.interpolatedmodesum.CubicSplineInterpolant)) can provide an 1D flattened array of all spline coefficients for use in a custom CUDA kernel. "
            ]
        },
        {
            "cell_type": "code",
            "execution_count": 1,
            "id": "3c526d1a",
            "metadata": {},
            "outputs": [],
            "source": [
                "import numpy as np\n",
                "import matplotlib.pyplot as plt\n",
                "\n",
                "import few\n",
                "\n",
                "# tune few configuration\n",
                "cfg_set = few.get_config_setter(reset=True)\n",
                "\n",
                "# Uncomment if you want to force CPU or GPU usage\n",
                "# Leave commented to let FEW automatically select the best available hardware\n",
                "#   - To force CPU usage:\n",
                "# cfg_set.enable_backends(\"cpu\")\n",
                "#   - To force GPU usage with CUDA 12.x\n",
                "# cfg_set.enable_backends(\"cuda12x\", \"cpu\")\n",
                "#   - To force GPU usage with CUDA 11.x\n",
                "# cfg_set.enable_backends(\"cuda11x\", \"cpu\")\n",
                "\n",
                "cfg_set.set_log_level(\"info\");"
            ]
        },
        {
            "cell_type": "code",
            "execution_count": 2,
            "id": "19ba8ad4",
            "metadata": {},
            "outputs": [],
            "source": [
                "from few.trajectory.inspiral import EMRIInspiral\n",
                "from few.trajectory.ode import SchwarzEccFlux\n",
                "from few.amplitude.romannet import RomanAmplitude\n",
                "\n",
                "traj = EMRIInspiral(func=SchwarzEccFlux)\n",
                "amp = RomanAmplitude()\n",
                "\n",
                "# parameters\n",
                "m1 = 1e5\n",
                "m2 = 1e1\n",
                "p0 = 10.0\n",
                "e0 = 0.7\n",
                "theta = np.pi / 3.0\n",
                "phi = np.pi / 2.0\n",
                "\n",
                "# get trajectory\n",
                "t, p, e, x, Phi_phi, Phi_theta, Phi_r = traj(m1, m2, 0.0, p0, e0, 1.0)\n",
                "# Schwarzschild\n",
                "a = 0.0\n",
                "\n",
                "teuk_modes = amp(a, p, e, x)"
            ]
        },
        {
            "cell_type": "code",
            "execution_count": 3,
            "id": "18b9882f-3e6d-4ca2-8730-c034ae96e649",
            "metadata": {},
            "outputs": [],
            "source": [
                "from few.summation.interpolatedmodesum import CubicSplineInterpolant\n",
                "\n",
                "# let's take the amplitudes from the last step and spline those.\n",
                "# We have to arange everything in the shape (ninterps, length)\n",
                "# We will split real and imaginary components\n",
                "\n",
                "interp_in = np.zeros((teuk_modes.shape[1] * 2, teuk_modes.shape[0]))\n",
                "\n",
                "interp_in[: teuk_modes.shape[1], :] = teuk_modes.T.real\n",
                "interp_in[teuk_modes.shape[1] :, :] = teuk_modes.T.imag\n",
                "\n",
                "spline = CubicSplineInterpolant(t, interp_in)"
            ]
        },
        {
            "cell_type": "code",
            "execution_count": 4,
            "id": "04ebee73-84eb-4e73-945a-8d59eef9795e",
            "metadata": {},
            "outputs": [
                {
                    "data": {
                        "image/png": "[encoded data removed]",
                        "text/plain": [
                            "<Figure size 640x480 with 1 Axes>"
                        ]
                    },
                    "metadata": {},
                    "output_type": "display_data"
                }
            ],
            "source": [
                "# get new values\n",
                "t_new = np.linspace(t[0], t[-1], 1000)\n",
                "\n",
                "# notice the new shape is (ninterps, length) just like the inital input to the spline\n",
                "new_teuk_modes = spline(t_new)\n",
                "\n",
                "# (220) mode (real part)\n",
                "ind = amp.special_index_map[(2, 2, 0)]\n",
                "\n",
                "plt.plot(t_new, new_teuk_modes[ind], label=\"interpolated\")\n",
                "plt.plot(t, teuk_modes[:, ind].real, \"--\", label=\"original\")\n",
                "plt.legend()\n",
                "plt.show()"
            ]
        },
        {
            "attachments": {},
            "cell_type": "markdown",
            "id": "88352b10-edac-456c-a390-111716f38fee",
            "metadata": {},
            "source": [
                "To get the array of interp coefficients for CUDA implementations, do the following. The underlying shape of the array is (4, length, ninterps). It is flattened though for entry into GPU kernel. "
            ]
        },
        {
            "cell_type": "code",
            "execution_count": 5,
            "id": "cc04fd9e-60ee-4d0f-b90b-e45d08b2cb26",
            "metadata": {
                "scrolled": true
            },
            "outputs": [
                {
                    "data": {
                        "text/plain": [
                            "array([ 6.23856751e-06,  3.56609646e-06, -1.26237401e-06, ...,\n",
                            "        1.24433368e-11,  1.36363437e-11,  7.04123293e-12])"
                        ]
                    },
                    "execution_count": 5,
                    "metadata": {},
                    "output_type": "execute_result"
                }
            ],
            "source": [
                "spline.interp_array"
            ]
        },
        {
            "cell_type": "markdown",
            "id": "2f1b29b9",
            "metadata": {},
            "source": [
                "For convenience, the coefficients array can be returned to its original form via the `reshape_shape` attribute:\n"
            ]
        },
        {
            "cell_type": "code",
            "execution_count": 6,
            "id": "20c13975",
            "metadata": {},
            "outputs": [
                {
                    "data": {
                        "text/plain": [
                            "(4, 44, 7686)"
                        ]
                    },
                    "execution_count": 6,
                    "metadata": {},
                    "output_type": "execute_result"
                }
            ],
            "source": [
                "spline.interp_array.reshape(spline.reshape_shape).shape"
            ]
        }
    ],
    "metadata": {
        "kernelspec": {
            "display_name": "few2.0rc1",
            "language": "python",
            "name": "python3"
        },
        "language_info": {
            "codemirror_mode": {
                "name": "ipython",
                "version": 3
            },
            "file_extension": ".py",
            "mimetype": "text/x-python",
            "name": "python",
            "nbconvert_exporter": "python",
            "pygments_lexer": "ipython3",
            "version": "3.12.9"
        }
    },
    "nbformat": 4,
    "nbformat_minor": 5
}
