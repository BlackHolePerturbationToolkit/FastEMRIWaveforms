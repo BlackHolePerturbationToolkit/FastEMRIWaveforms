{
 "cells": [
  {
   "cell_type": "code",
   "execution_count": 5,
   "metadata": {},
   "outputs": [],
   "source": [
    "from pyNIT import NIT\n",
    "import pdb\n",
    "import numpy as np\n",
    "import matplotlib.pyplot as plt\n",
    "%matplotlib inline\n",
    "\n",
    "from scipy.interpolate import CubicSpline"
   ]
  },
  {
   "cell_type": "code",
   "execution_count": 45,
   "metadata": {},
   "outputs": [
    {
     "name": "stdout",
     "output_type": "stream",
     "text": [
      "319 49094798.78280599\n",
      "61 48189801.184873275\n",
      "56 48564916.944925904\n",
      "48 48610369.22265197\n",
      "46 48134406.18981987\n",
      "43 48046125.95744538\n",
      "39 48372020.21469652\n",
      "38 48534638.630917706\n",
      "35 48509164.87321344\n",
      "33 48623347.44369213\n",
      "31 48786474.05513841\n",
      "29 47210639.362585634\n",
      "26 48328476.129120365\n",
      "25 48742258.26584736\n",
      "24 48462847.63014884\n",
      "23 47980084.27525665\n",
      "20 44970560.38409297\n",
      "20 46978442.59524462\n",
      "19 45988284.53163479\n",
      "18 45856195.57380264\n"
     ]
    }
   ],
   "source": [
    "M = 1e6\n",
    "mu = 1e1\n",
    "p0 = 13.0\n",
    "e0 = 0.4\n",
    "\n",
    "\n",
    "err_arr = np.logspace(-14, -10, 20)\n",
    "err_arr[0] = 1e-16\n",
    "\n",
    "out_list = []\n",
    "ts = []\n",
    "for err in err_arr:\n",
    "    t, p, e, Phi_phi, Phi_r = NIT(M, mu, p0, e0, err=err)\n",
    "    out_list.append([t, p, e, Phi_phi, Phi_r])\n",
    "    print(len(t), t.max())\n",
    "    ts.append(t.max())\n",
    "min_t_max = np.min(ts)"
   ]
  },
  {
   "cell_type": "markdown",
   "metadata": {},
   "source": [
    "## $\\Phi_\\phi$ Mismatch"
   ]
  },
  {
   "cell_type": "code",
   "execution_count": 46,
   "metadata": {},
   "outputs": [
    {
     "name": "stdout",
     "output_type": "stream",
     "text": [
      "0.0\n",
      "2.559600087437275e-09\n",
      "2.150585709514985e-09\n",
      "8.01983990328381e-09\n",
      "1.6045496598060538e-08\n",
      "1.668952243072397e-08\n",
      "4.632620775879559e-08\n",
      "1.0092927726912393e-07\n",
      "7.978620675253012e-08\n",
      "1.3709263180228248e-07\n",
      "3.882066533789086e-07\n",
      "4.974760730025451e-07\n",
      "9.054446913348002e-07\n",
      "1.6212842727236776e-06\n",
      "3.38665893273582e-06\n",
      "3.2673433117968997e-06\n",
      "5.0552622385624524e-05\n",
      "1.4540388616368638e-05\n",
      "1.8361622694973434e-05\n",
      "8.615081542218128e-05\n"
     ]
    },
    {
     "data": {
      "text/plain": [
       "Text(0.5, 0, 'Err Setting for Integrator')"
      ]
     },
     "execution_count": 46,
     "metadata": {},
     "output_type": "execute_result"
    },
    {
     "data": {
      "image/png": "[encoded data removed]",
      "text/plain": [
       "<Figure size 432x288 with 1 Axes>"
      ]
     },
     "metadata": {
      "needs_background": "light"
     },
     "output_type": "display_data"
    }
   ],
   "source": [
    "plt.close()\n",
    "dt = 10.0\n",
    "new_t = np.arange(0.0, min_t_max+dt, dt)\n",
    "mismatch_list = []\n",
    "for i, (t, p, e, Phi_phi, Phi_r) in enumerate(out_list):\n",
    "    spl = CubicSpline(t, Phi_phi)\n",
    "    new_Phi_phi = spl(new_t)\n",
    "    \n",
    "    if i == 0:\n",
    "        control = new_Phi_phi\n",
    "    \n",
    "    comp = np.dot(np.exp(1j*control).conj(), np.exp(1j*new_Phi_phi))\n",
    "    norm1 = np.dot(np.exp(1j*control).conj(), np.exp(1j*control))\n",
    "    norm2 = np.dot(np.exp(1j*new_Phi_phi).conj(), np.exp(1j*new_Phi_phi))\n",
    "    mismatch = comp/np.sqrt(norm1*norm2)\n",
    "    print(1 - mismatch.real)\n",
    "    mismatch_list.append(mismatch)\n",
    "\n",
    "ax = plt.gca()\n",
    "mismatch_list = np.asarray(mismatch_list)\n",
    "ax.loglog(err_arr, 1-mismatch_list.real)\n",
    "ax.set_ylabel('Mismatch')\n",
    "ax.set_xlabel('Err Setting for Integrator')"
   ]
  },
  {
   "cell_type": "markdown",
   "metadata": {},
   "source": [
    "## $\\Phi_r$ Mismatch"
   ]
  },
  {
   "cell_type": "code",
   "execution_count": 47,
   "metadata": {},
   "outputs": [
    {
     "name": "stdout",
     "output_type": "stream",
     "text": [
      "0.0\n",
      "3.8023084680816055e-10\n",
      "3.074311916151373e-10\n",
      "1.1098939545206576e-09\n",
      "2.371714935556213e-09\n",
      "2.4183366420515995e-09\n",
      "6.824228293567103e-09\n",
      "1.4636169054504933e-08\n",
      "1.180398789824011e-08\n",
      "1.9899814573953734e-08\n",
      "5.7489768279239684e-08\n",
      "7.33932149499239e-08\n",
      "1.2914063607372128e-07\n",
      "2.2857670856080148e-07\n",
      "4.993247698648062e-07\n",
      "4.7277023940139884e-07\n",
      "7.295589675382352e-06\n",
      "2.0535541682686898e-06\n",
      "2.3711635079859406e-06\n",
      "1.1831595523870142e-05\n"
     ]
    },
    {
     "data": {
      "text/plain": [
       "Text(0.5, 0, 'Err Setting for Integrator')"
      ]
     },
     "execution_count": 47,
     "metadata": {},
     "output_type": "execute_result"
    },
    {
     "data": {
      "image/png": "[encoded data removed]",
      "text/plain": [
       "<Figure size 432x288 with 1 Axes>"
      ]
     },
     "metadata": {
      "needs_background": "light"
     },
     "output_type": "display_data"
    }
   ],
   "source": [
    "plt.close()\n",
    "dt = 10.0\n",
    "new_t = np.arange(0.0, min_t_max+dt, dt)\n",
    "mismatch_list = []\n",
    "for i, (t, p, e, Phi_r, Phi_r) in enumerate(out_list):\n",
    "    spl = CubicSpline(t, Phi_r)\n",
    "    new_Phi_r = spl(new_t)\n",
    "    \n",
    "    if i == 0:\n",
    "        control = new_Phi_r\n",
    "    \n",
    "    comp = np.dot(np.exp(1j*control).conj(), np.exp(1j*new_Phi_r))\n",
    "    norm1 = np.dot(np.exp(1j*control).conj(), np.exp(1j*control))\n",
    "    norm2 = np.dot(np.exp(1j*new_Phi_r).conj(), np.exp(1j*new_Phi_r))\n",
    "    mismatch = comp/np.sqrt(norm1*norm2)\n",
    "    print(1 - mismatch.real)\n",
    "    mismatch_list.append(mismatch)\n",
    "\n",
    "ax = plt.gca()\n",
    "mismatch_list = np.asarray(mismatch_list)\n",
    "ax.loglog(err_arr, 1-mismatch_list.real)\n",
    "ax.set_ylabel('Mismatch')\n",
    "ax.set_xlabel('Err Setting for Integrator')"
   ]
  },
  {
   "cell_type": "markdown",
   "metadata": {},
   "source": []
  }
 ],
 "metadata": {
  "kernelspec": {
   "display_name": "Python 3",
   "language": "python",
   "name": "python3"
  },
  "language_info": {
   "codemirror_mode": {
    "name": "ipython",
    "version": 3
   },
   "file_extension": ".py",
   "mimetype": "text/x-python",
   "name": "python",
   "nbconvert_exporter": "python",
   "pygments_lexer": "ipython3",
   "version": "3.7.6"
  }
 },
 "nbformat": 4,
 "nbformat_minor": 4
}
