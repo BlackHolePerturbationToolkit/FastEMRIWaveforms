{
 "cells": [
  {
   "cell_type": "code",
   "execution_count": 1,
   "metadata": {
    "scrolled": true
   },
   "outputs": [],
   "source": [
    "import sys\n",
    "import os\n",
    "\n",
    "import matplotlib.pyplot as plt\n",
    "%matplotlib inline\n",
    "import numpy as np\n",
    "\n",
    "sys.path.insert(0, '../')\n",
    "#sys.path.insert(1, '/Users/michaelkatz/anaconda3/envs/few_env/lib/python3.7/site-packages')\n",
    "from few.trajectory.flux import RunSchwarzEccFluxInspiral\n",
    "from few.amplitude.romannet import RomanAmplitude\n",
    "from few.amplitude.interp2dcubicspline import Interp2DAmplitude\n",
    "from few.waveform import FastSchwarzschildEccentricFlux, SlowSchwarzschildEccentricFlux\n",
    "from few.utils.overlap import get_overlap, get_mismatch\n",
    "from few.utils.ylm import GetYlms\n",
    "from few.utils.modeselector import ModeSelector\n",
    "from few.summation.interpolatedmodesum import CubicSplineInterpolant\n",
    "from few.waveform import SchwarzschildEccentricWaveformBase\n",
    "from few.summation.interpolatedmodesum import InterpolatedModeSum\n",
    "from few.summation.directmodesum import DirectModeSum\n",
    "from few.utils.constants import *"
   ]
  },
  {
   "cell_type": "markdown",
   "metadata": {},
   "source": [
    "### Creating your own modules!"
   ]
  },
  {
   "cell_type": "markdown",
   "metadata": {},
   "source": [
    "In addition to using our built-in modules and waveforms, you can easily create your own module or waveform. Below is an example of creating your own trajectory module and using it in a custom waveform. If you can get a reasonably fast trajectory from your specific brand of EMRI physics, you can be generating waveforms in no time! Please see the [documentation]() on this for more details on the constructions behind this. \n",
    "\n",
    "**Important Note**: If you do use this package to examine EMRI analysis problems, please contact the authors of this code (see docs) about possible collaboration and/or contribution."
   ]
  },
  {
   "cell_type": "markdown",
   "metadata": {},
   "source": [
    "### Post-Newtonian trajectory"
   ]
  },
  {
   "cell_type": "markdown",
   "metadata": {},
   "source": [
    "The example will be to implement a Post-Newtonian trajectory in a Schwarzschild eccentric waveform. This will be done purely in Python. However, most of our modules have backends in C/C++/CUDA for maximum efficiency. If you have a trajectory in python and want to see if it can be ported for speed, please contact the authors.\n",
    "\n",
    "To get started, we will import an integrator ([DOP853](https://docs.scipy.org/doc/scipy/reference/generated/scipy.integrate.DOP853.html#scipy.integrate.DOP853)) and a library for elliptical integrals that mirrors the mathematica format `mpmath`. You can run: \n",
    "\n",
    "```\n",
    "pip install mpmath\n",
    "```\n",
    "\n",
    "in your conda environment to attain that library. \n",
    "\n",
    "We will also import necessary things from our package. This includes constants from `few.utils.constants`, as well as two base classes to be inherited by the new module. \n",
    "\n",
    "The first base class is [SchwarzschildEccentric](https://mikekatz04.github.io/FastEMRIWaveforms/html/user/main.html#few.utils.baseclasses.SchwarzschildEccentric) base class that passes information specific to any Schwarzschild eccentric waveform (number of modes, (l,m,n) pairs, etc.). It also has methods for general sanity checks in these limits for input parameters, trajectories, and other things. You can see the documentation for more detail on its properties. \n",
    "\n",
    "The other base class is [TrajectoryBase](file:///Users/michaelkatz/Research/FastEMRIWaveforms/docs/html/user/traj.html#few.utils.baseclasses.TrajectoryBase). This houses both information for trajectory modules, as well as the interface that should be common to all trajectory modules (i.e. [__call__](https://mikekatz04.github.io/FastEMRIWaveforms/html/user/traj.html?highlight=trajectorybase#few.utils.baseclasses.TrajectoryBase.__call__) function). It allows for flexible parameter calling interfaces, but ensures the strict interface will be the same for all trajectory modules. Trajectory modules must implement the method [get_inspial](https://mikekatz04.github.io/FastEMRIWaveforms/html/user/traj.html?highlight=trajectorybase#few.utils.baseclasses.TrajectoryBase.get_inspiral). The common interface uses this to generate the specific trajectory. \n",
    "\n",
    "This is a common theme amongst module and waveform creation. The user will take one parent abstract base class related to the waveform limits, domain of validity, and its waveform properties, and one parent abstract based class for the module type (like trajectory or summation). "
   ]
  },
  {
   "cell_type": "code",
   "execution_count": 2,
   "metadata": {},
   "outputs": [],
   "source": [
    "# we need to import an integrator and elliptic integrals\n",
    "from mpmath import *\n",
    "from scipy.integrate import DOP853\n",
    "\n",
    "# base classes\n",
    "from few.utils.baseclasses import TrajectoryBase\n",
    "from few.utils.baseclasses import SchwarzschildEccentric\n",
    "\n",
    "# settings for elliptic integrals\n",
    "mp.dps = 25\n",
    "mp.pretty = True\n",
    "\n",
    "# constants from our package\n",
    "from few.utils.constants import MTSUN_SI, YRSID_SI, Pi\n",
    "\n",
    "# for common interface with C/mathematica\n",
    "def Power(x, n):\n",
    "    return x**n\n",
    "\n",
    "def Sqrt(x):\n",
    "    return np.sqrt(x)\n",
    "\n",
    "# this is class object just to hold epsilon as it steps\n",
    "# this class is instantiated and then run like the derivative function in the integrator (ex. dydt)\n",
    "class PN:\n",
    "    def __init__(self, epsilon):\n",
    "        self.epsilon = epsilon\n",
    "\n",
    "    def __call__(self, t, y):\n",
    "\n",
    "        # mass ratio\n",
    "        epsilon = self.epsilon\n",
    "\n",
    "        # extract the four evolving parameters\n",
    "        p, e, Phi_phi, Phi_r = y\n",
    "        \n",
    "        # guard against bad integration steps\n",
    "        if e >= 1.0 or e < 1e-2 or p < 6.0 or (p - 6 - 2* e) < 0.1:\n",
    "            return [0.0, 0.0]\n",
    "        \n",
    "\n",
    "        # perform elliptic calculations\n",
    "        EllipE \t= ellipe(4*e/(p-6.0+2*e))\n",
    "        EllipK \t= ellipk(4*e/(p-6.0+2*e))\n",
    "        EllipPi1 = ellippi(16*e/(12.0 + 8*e - 4*e*e - 8*p + p*p), 4*e/(p-6.0+2*e))\n",
    "        EllipPi2 = ellippi(2*e*(p-4)/((1.0+e)*(p-6.0+2*e)), 4*e/(p-6.0+2*e))\n",
    "\n",
    "        # Azimuthal frequency\n",
    "        Omega_phi = (2*Power(p,1.5))/(Sqrt(-4*Power(e,2) + Power(-2 + p,2))*(8 + ((-2*EllipPi2*(6 + 2*e - p)*(3 + Power(e,2) - p)*Power(p,2))/((-1 + e)*Power(1 + e,2)) - (EllipE*(-4 + p)*Power(p,2)*(-6 + 2*e + p))/(-1 + Power(e,2)) +\n",
    "              (EllipK*Power(p,2)*(28 + 4*Power(e,2) - 12*p + Power(p,2)))/(-1 + Power(e,2)) + (4*(-4 + p)*p*(2*(1 + e)*EllipK + EllipPi2*(-6 - 2*e + p)))/(1 + e) + 2*Power(-4 + p,2)*(EllipK*(-4 + p) + (EllipPi1*p*(-6 - 2*e + p))/(2 + 2*e - p)))/\n",
    "            (EllipK*Power(-4 + p,2))))\n",
    "\n",
    "        # Post-Newtonian calculations\n",
    "        yPN = pow(Omega_phi,2./3.)\n",
    "\n",
    "        EdotPN = (96 + 292*Power(e,2) + 37*Power(e,4))/(15.*Power(1 - Power(e,2),3.5)) * pow(yPN, 5)\n",
    "        LdotPN = (4*(8 + 7*Power(e,2)))/(5.*Power(-1 + Power(e,2),2)) * pow(yPN, 7./2.)\n",
    "\n",
    "        # flux\n",
    "        Edot = -epsilon*(EdotPN)\n",
    "        Ldot = -epsilon*(LdotPN)\n",
    "\n",
    "        # time derivatives\n",
    "        pdot = (-2*(Edot*Sqrt((4*Power(e,2) - Power(-2 + p,2))/(3 + Power(e,2) - p))*(3 + Power(e,2) - p)*Power(p,1.5) + Ldot*Power(-4 + p,2)*Sqrt(-3 - Power(e,2) + p)))/(4*Power(e,2) - Power(-6 + p,2))\n",
    "\n",
    "        edot = -((Edot*Sqrt((4*Power(e,2) - Power(-2 + p,2))/(3 + Power(e,2) - p))*Power(p,1.5)*\n",
    "        (18 + 2*Power(e,4) - 3*Power(e,2)*(-4 + p) - 9*p + Power(p,2)) +\n",
    "        (-1 + Power(e,2))*Ldot*Sqrt(-3 - Power(e,2) + p)*(12 + 4*Power(e,2) - 8*p + Power(p,2)))/\n",
    "        (e*(4*Power(e,2) - Power(-6 + p,2))*p))\n",
    "        \n",
    "        Phi_phi_dot = Omega_phi;\n",
    "\n",
    "        Phi_r_dot = (p*Sqrt((-6 + 2*e + p)/(-4*Power(e,2) + Power(-2 + p,2)))*Pi)/(8*EllipK + ((-2*EllipPi2*(6 + 2*e - p)*(3 + Power(e,2) - p)*Power(p,2))/((-1 + e)*Power(1 + e,2)) - (EllipE*(-4 + p)*Power(p,2)*(-6 + 2*e + p))/(-1 + Power(e,2)) +\n",
    "        (EllipK*Power(p,2)*(28 + 4*Power(e,2) - 12*p + Power(p,2)))/(-1 + Power(e,2)) + (4*(-4 + p)*p*(2*(1 + e)*EllipK + EllipPi2*(-6 - 2*e + p)))/(1 + e) + 2*Power(-4 + p,2)*(EllipK*(-4 + p) + (EllipPi1*p*(-6 - 2*e + p))/(2 + 2*e - p)))/Power(-4 + p,2))\n",
    "\n",
    "        dydt = [pdot, edot, Phi_phi_dot, Phi_r_dot]\n",
    "\n",
    "        return dydt\n",
    "\n",
    "    \n",
    "# this is the actual class that implements a PN trajectory. It uses the PN class in the integrator.\n",
    "class PnTrajectory(TrajectoryBase):\n",
    "    \n",
    "    # for common interface with *args and **kwargs\n",
    "    def __init__(self, *args, **kwargs):\n",
    "        pass\n",
    "    \n",
    "    # required by the trajectory base class\n",
    "    def get_inspiral(self, M, mu, p0, e0, T=1.0, **kwargs):\n",
    "\n",
    "        # set up quantities and integrator\n",
    "        y0 = [p0, e0, 0.0, 0.0]\n",
    "\n",
    "        T = T * YRSID_SI / (M * MTSUN_SI)\n",
    "\n",
    "        epsilon = mu/M\n",
    "        integrator = DOP853(PN(epsilon), 0.0, y0, T)\n",
    "\n",
    "        t_out, p_out, e_out = [], [], []\n",
    "        Phi_phi_out, Phi_r_out = [], []\n",
    "        \n",
    "        # run the integrator down to T or separatrix\n",
    "        run = True\n",
    "        while integrator.t < T and run:\n",
    "            integrator.step()\n",
    "            p, e, Phi_phi, Phi_r = integrator.y\n",
    "            t_out.append(integrator.t)\n",
    "            p_out.append(p)\n",
    "            e_out.append(e)\n",
    "            Phi_phi_out.append(Phi_phi)\n",
    "            Phi_r_out.append(Phi_r)\n",
    "\n",
    "            if (p - 6 -2*e) < 0.1:\n",
    "                run = False\n",
    "\n",
    "        # read out data. It must return length 6 tuple\n",
    "        t = np.asarray(t_out)\n",
    "        p = np.asarray(p_out)\n",
    "        e = np.asarray(e_out)\n",
    "        Phi_phi = np.asarray(Phi_phi_out)\n",
    "        Phi_r = np.asarray(Phi_r_out)\n",
    "        flux = np.zeros_like(t)\n",
    "\n",
    "        return (t, p, e, Phi_phi, Phi_r, flux)"
   ]
  },
  {
   "cell_type": "markdown",
   "metadata": {},
   "source": []
  },
  {
   "cell_type": "markdown",
   "metadata": {},
   "source": [
    "### Test your trajectory!"
   ]
  },
  {
   "cell_type": "code",
   "execution_count": 3,
   "metadata": {},
   "outputs": [
    {
     "data": {
      "image/png": "[encoded data removed]",
      "text/plain": [
       "<Figure size 432x288 with 1 Axes>"
      ]
     },
     "metadata": {
      "needs_background": "light"
     },
     "output_type": "display_data"
    }
   ],
   "source": [
    "M = 1e6\n",
    "mu = 1e1\n",
    "p0 = 10.0\n",
    "e0 = 0.7\n",
    "T = 1.0\n",
    "\n",
    "traj = PnTrajectory()\n",
    "\n",
    "test = traj(M, mu, p0, e0, T=T, dt=10.0)\n",
    "\n",
    "traj2 = RunSchwarzEccFluxInspiral()\n",
    "\n",
    "flux = traj2(M, mu, p0, e0, T=T, dt=10.0)\n",
    "\n",
    "p = test[1]\n",
    "e = test[2] \n",
    "\n",
    "import matplotlib.pyplot as plt\n",
    "plt.plot(flux[1], flux[2], label='flux')\n",
    "plt.plot(p, e, label='pn')\n",
    "\n",
    "\n",
    "plt.legend()\n",
    "plt.savefig('trajectory_pn_vs_flux.pdf', dpi=200)"
   ]
  },
  {
   "cell_type": "markdown",
   "metadata": {},
   "source": [
    "### Make a waveform model"
   ]
  },
  {
   "cell_type": "markdown",
   "metadata": {},
   "source": [
    "Now we will create a waveform with our new trajectory model. To do this, we will start with [SchwarzschildEccentricWaveformBase](https://mikekatz04.github.io/FastEMRIWaveforms/html/user/main.html#few.waveform.SchwarzschildEccentricWaveformBase). This base class has already inherited from [SchwarzschildEccentric](https://mikekatz04.github.io/FastEMRIWaveforms/html/user/main.html#few.utils.baseclasses.SchwarzschildEccentric). It creates the common interface for all waveform modules (and how they interface with there constituent modules). A requirement when creating a module is to have properties describing the GPU capability of the waveform, as well as whether or not it allows for batching the waveform creation (after trajectory).  "
   ]
  },
  {
   "cell_type": "code",
   "execution_count": 4,
   "metadata": {},
   "outputs": [],
   "source": [
    "class FastSchwarzschildEccentricPn(SchwarzschildEccentricWaveformBase):\n",
    "    def __init__(\n",
    "        self,\n",
    "        inspiral_kwargs={},\n",
    "        amplitude_kwargs={},\n",
    "        sum_kwargs={},\n",
    "        Ylm_kwargs={},\n",
    "        use_gpu=False,\n",
    "        *args,\n",
    "        **kwargs\n",
    "    ):\n",
    "\n",
    "        SchwarzschildEccentricWaveformBase.__init__(\n",
    "            self,\n",
    "            PnTrajectory,\n",
    "            RomanAmplitude,\n",
    "            InterpolatedModeSum,\n",
    "            inspiral_kwargs=inspiral_kwargs,\n",
    "            amplitude_kwargs=amplitude_kwargs,\n",
    "            sum_kwargs=sum_kwargs,\n",
    "            Ylm_kwargs=Ylm_kwargs,\n",
    "            use_gpu=use_gpu,\n",
    "            *args,\n",
    "            **kwargs\n",
    "        )\n",
    "\n",
    "    @property\n",
    "    def gpu_capability(self):\n",
    "        return True\n",
    "\n",
    "    @property\n",
    "    def allow_batching(self):\n",
    "        return False"
   ]
  },
  {
   "cell_type": "markdown",
   "metadata": {},
   "source": [
    "### Test it!\n",
    "\n",
    "It will have the same interface as the other waveforms. "
   ]
  },
  {
   "cell_type": "code",
   "execution_count": 6,
   "metadata": {},
   "outputs": [
    {
     "name": "stdout",
     "output_type": "stream",
     "text": [
      "mismatch: 1.001340224043205\n"
     ]
    },
    {
     "data": {
      "image/png": "[encoded data removed]",
      "text/plain": [
       "<Figure size 432x288 with 1 Axes>"
      ]
     },
     "metadata": {
      "needs_background": "light"
     },
     "output_type": "display_data"
    }
   ],
   "source": [
    "test = FastSchwarzschildEccentricPn(normalize_amps=False)\n",
    "\n",
    "few = FastSchwarzschildEccentricFlux()\n",
    "\n",
    "M = 1e6\n",
    "mu = 1e1\n",
    "p0 = 12.0\n",
    "e0 = 0.4\n",
    "theta = np.pi/3.\n",
    "phi = np.pi/4.\n",
    "\n",
    "T = 0.2\n",
    "dt = 15.0\n",
    "\n",
    "wave1 = test(M, mu, p0, e0, theta, phi, dt=dt, T=T)\n",
    "\n",
    "wave2 = few(M, mu, p0, e0, theta, phi, dt=dt, T=T)\n",
    "\n",
    "plt.plot(wave1.real[:200], label='pn')\n",
    "plt.plot(wave2.real[:200], label='flux')\n",
    "plt.legend()\n",
    "print('mismatch:', get_mismatch(wave1, wave2))\n",
    "plt.savefig('pn_vs_flux.pdf', dpi=200)"
   ]
  },
  {
   "cell_type": "code",
   "execution_count": null,
   "metadata": {},
   "outputs": [],
   "source": []
  }
 ],
 "metadata": {
  "kernelspec": {
   "display_name": "Python 3",
   "language": "python",
   "name": "python3"
  },
  "language_info": {
   "codemirror_mode": {
    "name": "ipython",
    "version": 3
   },
   "file_extension": ".py",
   "mimetype": "text/x-python",
   "name": "python",
   "nbconvert_exporter": "python",
   "pygments_lexer": "ipython3",
   "version": "3.7.6"
  }
 },
 "nbformat": 4,
 "nbformat_minor": 4
}
