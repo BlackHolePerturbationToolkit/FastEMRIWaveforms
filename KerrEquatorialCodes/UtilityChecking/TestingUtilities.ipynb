{
 "cells": [
  {
   "cell_type": "markdown",
   "metadata": {},
   "source": [
    "# Testing the Utility Functions"
   ]
  },
  {
   "cell_type": "code",
   "execution_count": 2,
   "metadata": {},
   "outputs": [],
   "source": [
    "import numpy as np"
   ]
  },
  {
   "cell_type": "markdown",
   "metadata": {},
   "source": [
    "## Geting parameters for a certain observation time"
   ]
  },
  {
   "cell_type": "markdown",
   "metadata": {},
   "source": [
    "### get_p_at_t()"
   ]
  },
  {
   "cell_type": "code",
   "execution_count": 3,
   "metadata": {},
   "outputs": [],
   "source": [
    "from few.trajectory.inspiral import EMRIInspiral\n",
    "from few.trajectory.ode import KerrEccEqFlux\n",
    "from few.trajectory.ode import SchwarzEccFlux\n",
    "from few.trajectory.ode import PN5\n",
    "from few.utils.utility import get_p_at_t,get_separatrix,get_mu_at_t\n",
    "from few.utils.constants import YRSID_SI\n"
   ]
  },
  {
   "cell_type": "code",
   "execution_count": 4,
   "metadata": {},
   "outputs": [],
   "source": [
    "traj_module = EMRIInspiral(func=KerrEccEqFlux)"
   ]
  },
  {
   "cell_type": "code",
   "execution_count": 5,
   "metadata": {},
   "outputs": [
    {
     "data": {
      "text/plain": [
       "np.float64(0.3635427578522447)"
      ]
     },
     "execution_count": 5,
     "metadata": {},
     "output_type": "execute_result"
    }
   ],
   "source": [
    "M = 9700484.894655073\n",
    "mu = 25.806654874357793\n",
    "e0 = 0.3635415084736439\n",
    "# a= 0.6834440767965327\n",
    "a = 0.6834440767965327\n",
    "xI0 = 1.\n",
    "\n",
    "p0 = traj_module.func.min_p(e0,xI0, a)\n",
    "\n",
    "T = 1  # duration of trajectory in years (as defined by few.utils.constants.YRSID_SI)\n",
    "\n",
    "traj_pars = [M, mu, a, p0, e0, xI0]\n",
    "\n",
    "t, p, e, xI, Phi_phi, Phi_theta, Phi_r = traj_module(*traj_pars, T=T)\n",
    "e[-1]\n"
   ]
  },
  {
   "cell_type": "code",
   "execution_count": 93,
   "metadata": {},
   "outputs": [
    {
     "data": {
      "text/plain": [
       "3.935430307309695"
      ]
     },
     "execution_count": 93,
     "metadata": {},
     "output_type": "execute_result"
    }
   ],
   "source": [
    "get_separatrix(a,e[-1],xI0)"
   ]
  },
  {
   "cell_type": "code",
   "execution_count": 94,
   "metadata": {},
   "outputs": [],
   "source": [
    "# So the solution is to run a basic test of running a single trajectory at p_min and see if the legth is less than desired T"
   ]
  },
  {
   "cell_type": "code",
   "execution_count": 6,
   "metadata": {},
   "outputs": [
    {
     "ename": "KeyboardInterrupt",
     "evalue": "",
     "output_type": "error",
     "traceback": [
      "\u001b[31m---------------------------------------------------------------------------\u001b[39m",
      "\u001b[31mKeyboardInterrupt\u001b[39m                         Traceback (most recent call last)",
      "\u001b[36mCell\u001b[39m\u001b[36m \u001b[39m\u001b[32mIn[6]\u001b[39m\u001b[32m, line 23\u001b[39m\n\u001b[32m     21\u001b[39m t_out = \u001b[32m1.\u001b[39m\n\u001b[32m     22\u001b[39m \u001b[38;5;66;03m# run trajectory\u001b[39;00m\n\u001b[32m---> \u001b[39m\u001b[32m23\u001b[39m p_new = \u001b[43mget_p_at_t\u001b[49m\u001b[43m(\u001b[49m\n\u001b[32m     24\u001b[39m \u001b[43m    \u001b[49m\u001b[43mtraj_module\u001b[49m\u001b[43m,\u001b[49m\n\u001b[32m     25\u001b[39m \u001b[43m    \u001b[49m\u001b[43mt_out\u001b[49m\u001b[43m,\u001b[49m\n\u001b[32m     26\u001b[39m \u001b[43m    \u001b[49m\u001b[43mtraj_args\u001b[49m\u001b[43m,\u001b[49m\n\u001b[32m     27\u001b[39m \u001b[43m    \u001b[49m\u001b[43mindex_of_p\u001b[49m\u001b[43m=\u001b[49m\u001b[32;43m3\u001b[39;49m\u001b[43m,\u001b[49m\n\u001b[32m     28\u001b[39m \u001b[43m    \u001b[49m\u001b[43mindex_of_a\u001b[49m\u001b[43m=\u001b[49m\u001b[32;43m2\u001b[39;49m\u001b[43m,\u001b[49m\n\u001b[32m     29\u001b[39m \u001b[43m    \u001b[49m\u001b[43mindex_of_e\u001b[49m\u001b[43m=\u001b[49m\u001b[32;43m4\u001b[39;49m\u001b[43m,\u001b[49m\n\u001b[32m     30\u001b[39m \u001b[43m    \u001b[49m\u001b[43mindex_of_x\u001b[49m\u001b[43m=\u001b[49m\u001b[32;43m5\u001b[39;49m\u001b[43m,\u001b[49m\n\u001b[32m     31\u001b[39m \u001b[43m    \u001b[49m\u001b[43mtraj_kwargs\u001b[49m\u001b[43m=\u001b[49m\u001b[43m{\u001b[49m\u001b[43m}\u001b[49m\u001b[43m,\u001b[49m\n\u001b[32m     32\u001b[39m \u001b[43m    \u001b[49m\u001b[43mxtol\u001b[49m\u001b[43m=\u001b[49m\u001b[32;43m2e-12\u001b[39;49m\u001b[43m,\u001b[49m\n\u001b[32m     33\u001b[39m \u001b[43m    \u001b[49m\u001b[43mrtol\u001b[49m\u001b[43m=\u001b[49m\u001b[32;43m8.881784197001252e-16\u001b[39;49m\u001b[43m,\u001b[49m\n\u001b[32m     34\u001b[39m \u001b[43m    \u001b[49m\u001b[43mbounds\u001b[49m\u001b[43m=\u001b[49m\u001b[38;5;28;43;01mNone\u001b[39;49;00m\u001b[43m,\u001b[49m\n\u001b[32m     35\u001b[39m \u001b[43m)\u001b[49m\n\u001b[32m     37\u001b[39m \u001b[38;5;28mprint\u001b[39m(\n\u001b[32m     38\u001b[39m     \u001b[33m\"\u001b[39m\u001b[33mp0 = \u001b[39m\u001b[38;5;132;01m{}\u001b[39;00m\u001b[33m will create a waveform that is \u001b[39m\u001b[38;5;132;01m{}\u001b[39;00m\u001b[33m years long, given the other input parameters.\u001b[39m\u001b[33m\"\u001b[39m.format(\n\u001b[32m     39\u001b[39m         p_new, t_out\n\u001b[32m     40\u001b[39m     )\n\u001b[32m     41\u001b[39m )\n",
      "\u001b[36mFile \u001b[39m\u001b[32m~/Documents/Codes/FastEMRIWaveforms-Soton-Hackathon-2025/src/few/utils/utility.py:1853\u001b[39m, in \u001b[36mget_p_at_t\u001b[39m\u001b[34m(traj_module, t_out, traj_args, index_of_p, index_of_a, index_of_e, index_of_x, bounds, lower_bound_buffer, upper_bound_maximum, **kwargs)\u001b[39m\n\u001b[32m   1848\u001b[39m \u001b[38;5;66;03m# With the varying bounds of eccentricity used for KerrEccEqFlux, \u001b[39;00m\n\u001b[32m   1849\u001b[39m \u001b[38;5;66;03m# it is possible to have no solution within the bounds of the interpolants\u001b[39;00m\n\u001b[32m   1850\u001b[39m \u001b[38;5;66;03m# We now add a check to see if the bounds are valid\u001b[39;00m\n\u001b[32m   1851\u001b[39m traj_pars = [traj_args[\u001b[32m0\u001b[39m],traj_args[\u001b[32m1\u001b[39m],traj_args[index_of_a], bounds[\u001b[32m0\u001b[39m],traj_args[index_of_e],traj_args[index_of_x]]\n\u001b[32m-> \u001b[39m\u001b[32m1853\u001b[39m t, p, e, xI, Phi_phi, Phi_theta, Phi_r = \u001b[43mtraj_module\u001b[49m\u001b[43m(\u001b[49m\u001b[43m*\u001b[49m\u001b[43mtraj_pars\u001b[49m\u001b[43m,\u001b[49m\u001b[43m \u001b[49m\u001b[43mT\u001b[49m\u001b[43m=\u001b[49m\u001b[43mt_out\u001b[49m\u001b[43m*\u001b[49m\u001b[32;43m1.001\u001b[39;49m\u001b[43m)\u001b[49m\n\u001b[32m   1854\u001b[39m \u001b[38;5;28;01mif\u001b[39;00m t[-\u001b[32m1\u001b[39m] >= t_out*YRSID_SI:\n\u001b[32m   1855\u001b[39m     \u001b[38;5;28;01mraise\u001b[39;00m \u001b[38;5;167;01mValueError\u001b[39;00m(\u001b[33m\"\u001b[39m\u001b[33mNo solution found within the bounds of the interpolants.\u001b[39m\u001b[33m\"\u001b[39m)\n",
      "\u001b[36mFile \u001b[39m\u001b[32m~/Documents/Codes/FastEMRIWaveforms-Soton-Hackathon-2025/src/few/trajectory/base.py:119\u001b[39m, in \u001b[36mTrajectoryBase.__call__\u001b[39m\u001b[34m(self, in_coordinate_time, dt, T, new_t, spline_kwargs, DENSE_STEPPING, buffer_length, upsample, err, fix_t, integrate_backwards, *args, **kwargs)\u001b[39m\n\u001b[32m    116\u001b[39m T = T * YRSID_SI\n\u001b[32m    118\u001b[39m \u001b[38;5;66;03m# inspiral generator that must be added to each trajectory class\u001b[39;00m\n\u001b[32m--> \u001b[39m\u001b[32m119\u001b[39m out = \u001b[38;5;28;43mself\u001b[39;49m\u001b[43m.\u001b[49m\u001b[43mget_inspiral\u001b[49m\u001b[43m(\u001b[49m\u001b[43m*\u001b[49m\u001b[43margs\u001b[49m\u001b[43m,\u001b[49m\u001b[43m \u001b[49m\u001b[43m*\u001b[49m\u001b[43m*\u001b[49m\u001b[43mkwargs\u001b[49m\u001b[43m)\u001b[49m\n\u001b[32m    121\u001b[39m \u001b[38;5;66;03m# get time separate from the rest of the params\u001b[39;00m\n\u001b[32m    122\u001b[39m t = out[\u001b[32m0\u001b[39m]\n",
      "\u001b[36mFile \u001b[39m\u001b[32m~/Documents/Codes/FastEMRIWaveforms-Soton-Hackathon-2025/src/few/trajectory/inspiral.py:243\u001b[39m, in \u001b[36mEMRIInspiral.get_inspiral\u001b[39m\u001b[34m(self, M, mu, a, y1, y2, y3, Phi_phi0, Phi_theta0, Phi_r0, *args, **kwargs)\u001b[39m\n\u001b[32m    238\u001b[39m y0 = np.array(\n\u001b[32m    239\u001b[39m     [y1, y2, y3, Phi_phi0 * (mu / M), Phi_theta0 * (mu / M), Phi_r0 * (mu / M)]\n\u001b[32m    240\u001b[39m )\n\u001b[32m    242\u001b[39m \u001b[38;5;66;03m# this will return in coordinate time\u001b[39;00m\n\u001b[32m--> \u001b[39m\u001b[32m243\u001b[39m out = \u001b[38;5;28;43mself\u001b[39;49m\u001b[43m.\u001b[49m\u001b[43minspiral_generator\u001b[49m\u001b[43m.\u001b[49m\u001b[43mrun_inspiral\u001b[49m\u001b[43m(\u001b[49m\u001b[43mM\u001b[49m\u001b[43m,\u001b[49m\u001b[43m \u001b[49m\u001b[43mmu\u001b[49m\u001b[43m,\u001b[49m\u001b[43m \u001b[49m\u001b[43ma\u001b[49m\u001b[43m,\u001b[49m\u001b[43m \u001b[49m\u001b[43my0\u001b[49m\u001b[43m,\u001b[49m\u001b[43m \u001b[49m\u001b[43margs_in\u001b[49m\u001b[43m,\u001b[49m\u001b[43m \u001b[49m\u001b[43m*\u001b[49m\u001b[43m*\u001b[49m\u001b[43mtemp_kwargs\u001b[49m\u001b[43m)\u001b[49m\n\u001b[32m    244\u001b[39m \u001b[38;5;28;01mif\u001b[39;00m \u001b[38;5;28mself\u001b[39m.integrate_constants_of_motion \u001b[38;5;129;01mand\u001b[39;00m \u001b[38;5;28mself\u001b[39m.convert_to_pex:\n\u001b[32m    245\u001b[39m     out_ELQ = out.copy()\n",
      "\u001b[36mFile \u001b[39m\u001b[32m~/Documents/Codes/FastEMRIWaveforms-Soton-Hackathon-2025/src/few/trajectory/integrate.py:518\u001b[39m, in \u001b[36mIntegrate.run_inspiral\u001b[39m\u001b[34m(self, M, mu, a, y0, additional_args, T, dt, **kwargs)\u001b[39m\n\u001b[32m    514\u001b[39m \u001b[38;5;28;01massert\u001b[39;00m \u001b[38;5;28mself\u001b[39m.nparams == \u001b[38;5;28mlen\u001b[39m(y0)\n\u001b[32m    516\u001b[39m \u001b[38;5;28mself\u001b[39m.func.add_fixed_parameters(M, mu, a, additional_args=additional_args)\n\u001b[32m--> \u001b[39m\u001b[32m518\u001b[39m \u001b[38;5;28;43mself\u001b[39;49m\u001b[43m.\u001b[49m\u001b[43mintegrate\u001b[49m\u001b[43m(\u001b[49m\u001b[32;43m0.0\u001b[39;49m\u001b[43m,\u001b[49m\u001b[43m \u001b[49m\u001b[43my0\u001b[49m\u001b[43m)\u001b[49m\n\u001b[32m    520\u001b[39m orb_params = [y0[\u001b[32m0\u001b[39m], y0[\u001b[32m1\u001b[39m], y0[\u001b[32m2\u001b[39m]]\n\u001b[32m    521\u001b[39m \u001b[38;5;28;01mif\u001b[39;00m \u001b[38;5;28mself\u001b[39m.integrate_constants_of_motion:\n",
      "\u001b[36mFile \u001b[39m\u001b[32m~/Documents/Codes/FastEMRIWaveforms-Soton-Hackathon-2025/src/few/trajectory/integrate.py:241\u001b[39m, in \u001b[36mIntegrate.integrate\u001b[39m\u001b[34m(self, t0, y0)\u001b[39m\n\u001b[32m    239\u001b[39m     h_old = h\n\u001b[32m    240\u001b[39m     y_old = y.copy()\n\u001b[32m--> \u001b[39m\u001b[32m241\u001b[39m     status, t, h = \u001b[38;5;28;43mself\u001b[39;49m\u001b[43m.\u001b[49m\u001b[43mdopr\u001b[49m\u001b[43m.\u001b[49m\u001b[43mtake_step_single\u001b[49m\u001b[43m(\u001b[49m\n\u001b[32m    242\u001b[39m \u001b[43m        \u001b[49m\u001b[43mt_old\u001b[49m\u001b[43m,\u001b[49m\u001b[43m \u001b[49m\u001b[43mh_old\u001b[49m\u001b[43m,\u001b[49m\u001b[43m \u001b[49m\u001b[43my\u001b[49m\u001b[43m,\u001b[49m\u001b[43m \u001b[49m\u001b[38;5;28;43mself\u001b[39;49m\u001b[43m.\u001b[49m\u001b[43mtmax_dimensionless\u001b[49m\u001b[43m,\u001b[49m\u001b[43m \u001b[49m\u001b[38;5;28;43;01mNone\u001b[39;49;00m\n\u001b[32m    243\u001b[39m \u001b[43m    \u001b[49m\u001b[43m)\u001b[49m\n\u001b[32m    245\u001b[39m \u001b[38;5;28;01mexcept\u001b[39;00m \u001b[38;5;167;01mValueError\u001b[39;00m \u001b[38;5;28;01mas\u001b[39;00m e:\n\u001b[32m    246\u001b[39m     t = t_prev\n",
      "\u001b[36mFile \u001b[39m\u001b[32m~/Documents/Codes/FastEMRIWaveforms-Soton-Hackathon-2025/src/few/trajectory/dopr853.py:513\u001b[39m, in \u001b[36mDOPR853.take_step_single\u001b[39m\u001b[34m(self, x, h, y, tmax_dimensionless, additional_args)\u001b[39m\n\u001b[32m    510\u001b[39m solOldTemp = np.array([y.copy()]).T\n\u001b[32m    511\u001b[39m additionalArgsTemp = np.array([additional_args])\n\u001b[32m--> \u001b[39m\u001b[32m513\u001b[39m flagSuccess = \u001b[38;5;28;43mself\u001b[39;49m\u001b[43m.\u001b[49m\u001b[43mtake_step\u001b[49m\u001b[43m(\u001b[49m\n\u001b[32m    514\u001b[39m \u001b[43m    \u001b[49m\u001b[43mxTemp\u001b[49m\u001b[43m,\u001b[49m\n\u001b[32m    515\u001b[39m \u001b[43m    \u001b[49m\u001b[43mhTemp\u001b[49m\u001b[43m,\u001b[49m\n\u001b[32m    516\u001b[39m \u001b[43m    \u001b[49m\u001b[43msolOldTemp\u001b[49m\u001b[43m,\u001b[49m\n\u001b[32m    517\u001b[39m \u001b[43m    \u001b[49m\u001b[43mtmax_dimensionless\u001b[49m\u001b[43m,\u001b[49m\n\u001b[32m    518\u001b[39m \u001b[43m    \u001b[49m\u001b[43madditionalArgsTemp\u001b[49m\u001b[43m,\u001b[49m\n\u001b[32m    519\u001b[39m \u001b[43m    \u001b[49m\u001b[43minds\u001b[49m\u001b[43m=\u001b[49m\u001b[38;5;28;43;01mNone\u001b[39;49;00m\u001b[43m,\u001b[49m\n\u001b[32m    520\u001b[39m \u001b[43m\u001b[49m\u001b[43m)\u001b[49m\n\u001b[32m    522\u001b[39m \u001b[38;5;66;03m# inplace update to y\u001b[39;00m\n\u001b[32m    523\u001b[39m y[:] = solOldTemp[:, \u001b[32m0\u001b[39m]\n",
      "\u001b[36mFile \u001b[39m\u001b[32m~/Documents/Codes/FastEMRIWaveforms-Soton-Hackathon-2025/src/few/trajectory/dopr853.py:555\u001b[39m, in \u001b[36mDOPR853.take_step\u001b[39m\u001b[34m(self, xTemp, hTemp, solOldTemp, tmax_dimensionless, additionalArgsTemp, inds)\u001b[39m\n\u001b[32m    540\u001b[39m nODE, numSysTemp = solOldTemp.shape\n\u001b[32m    542\u001b[39m (\n\u001b[32m    543\u001b[39m     k1,\n\u001b[32m    544\u001b[39m     k2,\n\u001b[32m   (...)\u001b[39m\u001b[32m    552\u001b[39m     k10,\n\u001b[32m    553\u001b[39m ) = [\u001b[38;5;28mself\u001b[39m.xp.zeros((nODE, numSysTemp)) \u001b[38;5;28;01mfor\u001b[39;00m _ \u001b[38;5;129;01min\u001b[39;00m \u001b[38;5;28mrange\u001b[39m(\u001b[32m10\u001b[39m)]\n\u001b[32m--> \u001b[39m\u001b[32m555\u001b[39m \u001b[38;5;28;43mself\u001b[39;49m\u001b[43m.\u001b[49m\u001b[43mdormandPrinceSteps\u001b[49m\u001b[43m(\u001b[49m\n\u001b[32m    556\u001b[39m \u001b[43m    \u001b[49m\u001b[43mxTemp\u001b[49m\u001b[43m,\u001b[49m\n\u001b[32m    557\u001b[39m \u001b[43m    \u001b[49m\u001b[43msolOldTemp\u001b[49m\u001b[43m,\u001b[49m\n\u001b[32m    558\u001b[39m \u001b[43m    \u001b[49m\u001b[43mhTemp\u001b[49m\u001b[43m,\u001b[49m\n\u001b[32m    559\u001b[39m \u001b[43m    \u001b[49m\u001b[43madditionalArgsTemp\u001b[49m\u001b[43m,\u001b[49m\n\u001b[32m    560\u001b[39m \u001b[43m    \u001b[49m\u001b[43mk1\u001b[49m\u001b[43m,\u001b[49m\n\u001b[32m    561\u001b[39m \u001b[43m    \u001b[49m\u001b[43mk2\u001b[49m\u001b[43m,\u001b[49m\n\u001b[32m    562\u001b[39m \u001b[43m    \u001b[49m\u001b[43mk3\u001b[49m\u001b[43m,\u001b[49m\n\u001b[32m    563\u001b[39m \u001b[43m    \u001b[49m\u001b[43mk4\u001b[49m\u001b[43m,\u001b[49m\n\u001b[32m    564\u001b[39m \u001b[43m    \u001b[49m\u001b[43mk5\u001b[49m\u001b[43m,\u001b[49m\n\u001b[32m    565\u001b[39m \u001b[43m    \u001b[49m\u001b[43mk6\u001b[49m\u001b[43m,\u001b[49m\n\u001b[32m    566\u001b[39m \u001b[43m    \u001b[49m\u001b[43mk7\u001b[49m\u001b[43m,\u001b[49m\n\u001b[32m    567\u001b[39m \u001b[43m    \u001b[49m\u001b[43mk8\u001b[49m\u001b[43m,\u001b[49m\n\u001b[32m    568\u001b[39m \u001b[43m    \u001b[49m\u001b[43mk9\u001b[49m\u001b[43m,\u001b[49m\n\u001b[32m    569\u001b[39m \u001b[43m    \u001b[49m\u001b[43mk10\u001b[49m\u001b[43m,\u001b[49m\n\u001b[32m    570\u001b[39m \u001b[43m\u001b[49m\u001b[43m)\u001b[49m\n\u001b[32m    572\u001b[39m \u001b[38;5;28;01mif\u001b[39;00m \u001b[38;5;129;01mnot\u001b[39;00m \u001b[38;5;28mself\u001b[39m.fix_step:\n\u001b[32m    573\u001b[39m     err = np.zeros_like(xTemp)\n",
      "\u001b[36mFile \u001b[39m\u001b[32m~/Documents/Codes/FastEMRIWaveforms-Soton-Hackathon-2025/src/few/trajectory/dopr853.py:290\u001b[39m, in \u001b[36mDOPR853.dormandPrinceSteps\u001b[39m\u001b[34m(self, x, solOld, h, additionalArgs, k1, k2, k3, k4, k5, k6, k7, k8, k9, k10)\u001b[39m\n\u001b[32m    287\u001b[39m arg[:] = solOld + h * (a31 * k1 + a32 * k2)\n\u001b[32m    288\u001b[39m xCurrent = x + c3 * h\n\u001b[32m--> \u001b[39m\u001b[32m290\u001b[39m \u001b[38;5;28;43mself\u001b[39;49m\u001b[43m.\u001b[49m\u001b[43mode\u001b[49m\u001b[43m(\u001b[49m\u001b[43mxCurrent\u001b[49m\u001b[43m,\u001b[49m\u001b[43m \u001b[49m\u001b[43marg\u001b[49m\u001b[43m,\u001b[49m\u001b[43m \u001b[49m\u001b[43mk3\u001b[49m\u001b[43m,\u001b[49m\u001b[43m \u001b[49m\u001b[43madditionalArgs\u001b[49m\u001b[43m)\u001b[49m\n\u001b[32m    292\u001b[39m \u001b[38;5;66;03m# Step 4\u001b[39;00m\n\u001b[32m    293\u001b[39m arg[:] = solOld + h * (a41 * k1 + a43 * k3)\n",
      "\u001b[36mFile \u001b[39m\u001b[32m~/Documents/Codes/FastEMRIWaveforms-Soton-Hackathon-2025/src/few/trajectory/integrate.py:158\u001b[39m, in \u001b[36mIntegrate._dopr_ode_wrap\u001b[39m\u001b[34m(self, t, y, ydot, additionalArgs)\u001b[39m\n\u001b[32m    155\u001b[39m \u001b[38;5;250m    \u001b[39m\u001b[33;03m\"\"\"Distance to outer boundary of interpolation grid.\"\"\"\u001b[39;00m\n\u001b[32m    156\u001b[39m     \u001b[38;5;28;01mreturn\u001b[39;00m \u001b[38;5;28mself\u001b[39m.func.distance_to_outer_boundary(y)\n\u001b[32m--> \u001b[39m\u001b[32m158\u001b[39m \u001b[38;5;28;01mdef\u001b[39;00m\u001b[38;5;250m \u001b[39m\u001b[34m_dopr_ode_wrap\u001b[39m(\u001b[38;5;28mself\u001b[39m, t, y, ydot, additionalArgs):\n\u001b[32m    159\u001b[39m     \u001b[38;5;28mself\u001b[39m.func(y[:, \u001b[32m0\u001b[39m], out=ydot[:, \u001b[32m0\u001b[39m])\n\u001b[32m    160\u001b[39m     \u001b[38;5;28;01mif\u001b[39;00m \u001b[38;5;28mself\u001b[39m.integrate_backwards:\n",
      "\u001b[31mKeyboardInterrupt\u001b[39m: "
     ]
    }
   ],
   "source": [
    "\n",
    "\n",
    "# set initial parameters\n",
    "M = 1e5\n",
    "mu = 1\n",
    "e0 = 0.62\n",
    "#e0 = 0.3\n",
    "\n",
    "a = 0.9\n",
    "xI0 = 1.\n",
    "\n",
    "\n",
    "#M = 1e6\n",
    "#mu = 5e1\n",
    "#e0 = 0.5\n",
    "#a = 0.5\n",
    "#x = 1.\n",
    "\n",
    "traj_args = [M, mu, a, e0, xI0]\n",
    "traj_kwargs = {}\n",
    "#index_of_p = 3\n",
    "\n",
    "t_out = 1.\n",
    "# run trajectory\n",
    "p_new = get_p_at_t(\n",
    "    traj_module,\n",
    "    t_out,\n",
    "    traj_args,\n",
    "    index_of_p=3,\n",
    "    index_of_a=2,\n",
    "    index_of_e=4,\n",
    "    index_of_x=5,\n",
    "    traj_kwargs={},\n",
    "    xtol=2e-12,\n",
    "    rtol=8.881784197001252e-16,\n",
    "    bounds=None,\n",
    ")\n",
    "\n",
    "print(\n",
    "    \"p0 = {} will create a waveform that is {} years long, given the other input parameters.\".format(\n",
    "        p_new, t_out\n",
    "    )\n",
    ")"
   ]
  },
  {
   "cell_type": "code",
   "execution_count": 7,
   "metadata": {},
   "outputs": [
    {
     "data": {
      "text/plain": [
       "199.99999"
      ]
     },
     "execution_count": 7,
     "metadata": {},
     "output_type": "execute_result"
    }
   ],
   "source": [
    "traj_module.func.max_p(e0,xI0, a)"
   ]
  },
  {
   "cell_type": "code",
   "execution_count": 8,
   "metadata": {},
   "outputs": [
    {
     "data": {
      "text/plain": [
       "3.0711964860398067"
      ]
     },
     "execution_count": 8,
     "metadata": {},
     "output_type": "execute_result"
    }
   ],
   "source": [
    "traj_module.func.min_p(e0,xI0, a)"
   ]
  },
  {
   "cell_type": "code",
   "execution_count": 9,
   "metadata": {},
   "outputs": [
    {
     "data": {
      "text/plain": [
       "2.9806455005776145"
      ]
     },
     "execution_count": 9,
     "metadata": {},
     "output_type": "execute_result"
    }
   ],
   "source": [
    "get_separatrix(a,e0,xI0) + traj_module.func.separatrix_buffer_dist"
   ]
  },
  {
   "cell_type": "code",
   "execution_count": 15,
   "metadata": {},
   "outputs": [
    {
     "data": {
      "text/plain": [
       "26"
      ]
     },
     "execution_count": 15,
     "metadata": {},
     "output_type": "execute_result"
    }
   ],
   "source": [
    "M = 1e5\n",
    "mu = 1\n",
    "#e0 = 0.62\n",
    "e0 = 0.621\n",
    "\n",
    "a = 0.9\n",
    "xI0 = 1.\n",
    "\n",
    "t_out = 1.\n",
    "\n",
    "p0 = traj_module.func.min_p(e0,xI0, a)\n",
    "\n",
    "traj_pars = [M, mu, a, p0, e0, xI0]\n",
    "\n",
    "t, p, e, xI, Phi_phi, Phi_theta, Phi_r = traj_module(*traj_pars, T=t_out)\n",
    "len(p)"
   ]
  },
  {
   "cell_type": "code",
   "execution_count": 17,
   "metadata": {},
   "outputs": [
    {
     "data": {
      "text/plain": [
       "-0.0009999999999998899"
      ]
     },
     "execution_count": 17,
     "metadata": {},
     "output_type": "execute_result"
    }
   ],
   "source": [
    "traj_module.func.min_p(e0,xI0, a) - p0"
   ]
  },
  {
   "cell_type": "code",
   "execution_count": 98,
   "metadata": {},
   "outputs": [],
   "source": [
    "# Jonathan's code\n",
    "\n",
    "import numpy as np\n",
    "import time\n",
    "from tqdm import tqdm\n",
    "from numpy.random import seed, uniform, randint\n",
    "\n",
    "from few.trajectory.inspiral import EMRIInspiral\n",
    "from few.trajectory.ode.flux import KerrEccEqFlux\n",
    "from few.utils.utility import get_p_at_t\n",
    "\n",
    "# 9700484.894655073, 25.806654874357793, 0.7735415084736439, 0.6834440767965327 stuck parameters\n",
    "# 352224.8117850187, 63.9495298217371, 0.424046325083201, 0.7687664552808469\n",
    "\n",
    "def gen_parameters(NEVAL, duration, seed_in=314159):\n",
    "\n",
    "    traj_module = EMRIInspiral(func=KerrEccEqFlux)\n",
    "\n",
    "    M_range = [1E5, 1E7]\n",
    "    mu_range = [1,1E2]\n",
    "    a_range = [0.0, 0.999]\n",
    "    e_range = [0.0, 0.9]\n",
    "\n",
    "    x0 = 1.0  # will be ignored in Schwarzschild waveform\n",
    "    qK = np.pi / 3  # polar spin angle\n",
    "    phiK = np.pi / 3  # azimuthal viewing angle\n",
    "    qS = np.pi / 3  # polar sky angle\n",
    "    phiS = np.pi / 3  # azimuthal viewing angle\n",
    "    distance = 1.0  # distance\n",
    "    # initial phases\n",
    "    Phi_phi0 = np.pi / 3\n",
    "    Phi_theta0 = 0.0\n",
    "    Phi_r0 = np.pi / 3\n",
    "\n",
    "    _base_params = [\n",
    "        1E5, # M\n",
    "        10,  # mu\n",
    "        0.0, # a\n",
    "        0.0, # p0\n",
    "        0.0, # e0\n",
    "        x0,\n",
    "        distance,\n",
    "        qS,\n",
    "        phiS,\n",
    "        qK,\n",
    "        phiK,\n",
    "        Phi_phi0,\n",
    "        Phi_theta0,\n",
    "        Phi_r0,\n",
    "    ]\n",
    "\n",
    "    seed(seed_in)\n",
    "    M_seed, mu_seed, a_seed, e_seed = randint(1E3, 1E5, size=4)\n",
    "\n",
    "    seed(M_seed)\n",
    "    M_list = uniform(low=M_range[0], high=M_range[1], size=NEVAL)\n",
    "    seed(mu_seed)\n",
    "    mu_list = uniform(low=mu_range[0], high=mu_range[1], size=NEVAL)\n",
    "    seed(a_seed)\n",
    "    a_list = uniform(low=a_range[0], high=a_range[1], size=NEVAL)\n",
    "    seed(e_seed)\n",
    "    e_list = uniform(low=e_range[0], high=e_range[1], size=NEVAL)\n",
    "\n",
    "    output_params_list = []\n",
    "    failed_params_list = []\n",
    "\n",
    "    for i, (M, mu, a, e) in enumerate(zip(\n",
    "        M_list,\n",
    "        mu_list,\n",
    "        a_list,\n",
    "        e_list,\n",
    "    )):\n",
    "\n",
    "        try:\n",
    "            print(f\"{i+1}:\\t{M}, {mu}, {a}, {e}\")\n",
    "            updated_params = _base_params.copy()\n",
    "\n",
    "            updated_params[0] = M\n",
    "            updated_params[1] = mu\n",
    "            updated_params[2] = a\n",
    "            updated_params[4] = e\n",
    "            updated_params[3] = get_p_at_t(\n",
    "                traj_module,\n",
    "                duration,\n",
    "                [updated_params[0], updated_params[1], updated_params[2], updated_params[4], 1.0],\n",
    "                index_of_p=3,\n",
    "                index_of_a=2,\n",
    "                index_of_e=4,\n",
    "                index_of_x=5,\n",
    "                traj_kwargs={},\n",
    "                xtol=2e-6,\n",
    "                rtol=8.881784197001252e-6,\n",
    "            )\n",
    "\n",
    "            output_params_list.append(\n",
    "                updated_params.copy()\n",
    "            )\n",
    "        except ValueError:\n",
    "            failed_params_list.append([M, mu, a, e, duration])\n",
    "\n",
    "    return output_params_list, failed_params_list"
   ]
  },
  {
   "cell_type": "code",
   "execution_count": 99,
   "metadata": {},
   "outputs": [
    {
     "name": "stdout",
     "output_type": "stream",
     "text": [
      "1:\t4764015.007878976, 76.30135464800664, 0.63318417867749, 0.8456229611488303\n",
      "2:\t405138.27078034176, 57.92882280685928, 0.9596893939803604, 0.3002036475817836\n",
      "3:\t8372808.520218218, 74.23299497076685, 0.1930017897348381, 0.07946030164068162\n",
      "4:\t4074835.2228096314, 57.535395387365696, 0.6621717980216931, 0.48554296876549025\n",
      "5:\t2794363.1955887587, 11.336815434452838, 0.535795768443508, 0.01380994016270073\n",
      "6:\t693809.2892725696, 68.63193763609031, 0.2854399989584721, 0.49341461766701\n",
      "7:\t5596928.061793652, 8.306124293891408, 0.9815520046048689, 0.21864875057358743\n",
      "8:\t1336037.06213522, 33.84247930148765, 0.7055587713090156, 0.5633862259178087\n",
      "9:\t217423.01029897065, 34.69606751432639, 0.5002460499609177, 0.7329960975068831\n",
      "10:\t561684.6512129776, 41.664308844263566, 0.9540268449924643, 0.33486443888147327\n",
      "11:\t9298980.216267163, 67.36761824107204, 0.40506790450399566, 0.7939597304725895\n",
      "12:\t9379060.243887449, 86.73605103280993, 0.8915196190773511, 0.5623473996954678\n",
      "13:\t2525355.5822970695, 21.354921949057, 0.09237024459604093, 0.36081521056078736\n",
      "14:\t6255280.066795826, 33.77372273772914, 0.8945641763541183, 0.3130779176054787\n",
      "15:\t5770293.064554656, 73.60364514604791, 0.21349236204259886, 0.4623475720752977\n",
      "16:\t5241481.996200107, 57.74376458970125, 0.304691395455728, 0.8692127811899373\n",
      "17:\t9097134.865394251, 59.721161371586845, 0.10860157102849673, 0.2879777375759938\n",
      "18:\t898227.6832407498, 35.977389136209865, 0.39245073205238495, 0.8821005649621463\n",
      "19:\t444350.28827712516, 82.14622280697239, 0.38499813564621654, 0.8190103692006981\n",
      "20:\t1620584.2700707614, 41.61222389398249, 0.1494573750459308, 0.2105396094707099\n",
      "21:\t2006175.0471067957, 86.4785512692156, 0.32105782402980043, 0.7108939822791092\n",
      "22:\t1123828.2271603635, 59.393704901494154, 0.026328567833315136, 0.10516766955594571\n",
      "23:\t7868819.612991231, 32.66673531546465, 0.14758127145993244, 0.586178769985498\n",
      "24:\t960854.1773450563, 46.5639414342649, 0.8415539274396648, 0.5209029848278441\n",
      "25:\t3508645.5436118357, 73.11719749232012, 0.7433731936667397, 0.17803569298746488\n"
     ]
    }
   ],
   "source": [
    "params = gen_parameters(25, 1., seed_in=314158)"
   ]
  },
  {
   "cell_type": "markdown",
   "metadata": {},
   "source": []
  },
  {
   "cell_type": "code",
   "execution_count": 100,
   "metadata": {},
   "outputs": [
    {
     "data": {
      "text/plain": [
       "4"
      ]
     },
     "execution_count": 100,
     "metadata": {},
     "output_type": "execute_result"
    }
   ],
   "source": [
    "len(params[1])"
   ]
  },
  {
   "cell_type": "code",
   "execution_count": 101,
   "metadata": {},
   "outputs": [
    {
     "name": "stdout",
     "output_type": "stream",
     "text": [
      "p0 = 9.86469161522928 will create a waveform that is 1.0 years long, given the other input parameters.\n"
     ]
    }
   ],
   "source": [
    "p_new = get_p_at_t(\n",
    "    traj_module,\n",
    "    t_out,\n",
    "    params[1][3],\n",
    "    index_of_p=3,\n",
    "    index_of_a=2,\n",
    "    index_of_e=4,\n",
    "    index_of_x=5,\n",
    "    traj_kwargs={},\n",
    "    xtol=2e-12,\n",
    "    rtol=8.881784197001252e-16,\n",
    "    bounds=None,\n",
    ")\n",
    "\n",
    "print(\n",
    "    \"p0 = {} will create a waveform that is {} years long, given the other input parameters.\".format(\n",
    "        p_new, t_out\n",
    "    )\n",
    ")"
   ]
  },
  {
   "cell_type": "markdown",
   "metadata": {},
   "source": [
    "### Now look at get_mu_at_t"
   ]
  },
  {
   "cell_type": "code",
   "execution_count": 2,
   "metadata": {},
   "outputs": [],
   "source": [
    "traj_module = EMRIInspiral(func=KerrEccEqFlux)"
   ]
  },
  {
   "cell_type": "code",
   "execution_count": 103,
   "metadata": {},
   "outputs": [
    {
     "data": {
      "text/plain": [
       "4.128659377262853"
      ]
     },
     "execution_count": 103,
     "metadata": {},
     "output_type": "execute_result"
    }
   ],
   "source": [
    "M = 1e6\n",
    "\n",
    "e0 = 0.5\n",
    "# a= 0.6834440767965327\n",
    "a = 0.6834440767965327\n",
    "x = 1.\n",
    "\n",
    "get_separatrix(a,e0,x)"
   ]
  },
  {
   "cell_type": "code",
   "execution_count": 104,
   "metadata": {},
   "outputs": [
    {
     "data": {
      "text/plain": [
       "7.40201"
      ]
     },
     "execution_count": 104,
     "metadata": {},
     "output_type": "execute_result"
    }
   ],
   "source": [
    "traj_module.func.min_p(0.7,x, 0)"
   ]
  },
  {
   "cell_type": "code",
   "execution_count": 105,
   "metadata": {},
   "outputs": [
    {
     "data": {
      "text/plain": [
       "199.99999"
      ]
     },
     "execution_count": 105,
     "metadata": {},
     "output_type": "execute_result"
    }
   ],
   "source": [
    "traj_module.func.max_p(10,x, a)"
   ]
  },
  {
   "cell_type": "code",
   "execution_count": 106,
   "metadata": {},
   "outputs": [
    {
     "name": "stdout",
     "output_type": "stream",
     "text": [
      "mu = 6.74957064140141 will create a waveform that is 1.0 years long, given the other input parameters.\n"
     ]
    }
   ],
   "source": [
    "# set initial parameters\n",
    "\n",
    "p0 = 7.105\n",
    "\n",
    "traj_args = [M, a, p0, e0, 1.0]\n",
    "traj_kwargs = {}\n",
    "index_of_mu = 1\n",
    "\n",
    "t_out = 1.\n",
    "# run trajectory\n",
    "mu_new = get_mu_at_t(\n",
    "    traj_module,\n",
    "    t_out,\n",
    "    traj_args,\n",
    "    index_of_mu=index_of_mu,\n",
    "    traj_kwargs=traj_kwargs,\n",
    "    xtol=2e-12,\n",
    "    rtol=8.881784197001252e-16,\n",
    "    bounds=None,\n",
    ")\n",
    "\n",
    "print(\n",
    "    \"mu = {} will create a waveform that is {} years long, given the other input parameters.\".format(\n",
    "        mu_new, t_out\n",
    "    )\n",
    ")"
   ]
  },
  {
   "cell_type": "code",
   "execution_count": 107,
   "metadata": {},
   "outputs": [
    {
     "data": {
      "text/plain": [
       "np.float64(315581.49763545766)"
      ]
     },
     "execution_count": 107,
     "metadata": {},
     "output_type": "execute_result"
    }
   ],
   "source": [
    "mu = 1e-1\n",
    "traj_pars = [M, mu, a, p0, e0, x]\n",
    "\n",
    "t, p, e, xI, Phi_phi, Phi_theta, Phi_r = traj_module(*traj_pars, T=t_out*1.01)\n",
    "t[-1] - t_out*YRSID_SI"
   ]
  },
  {
   "cell_type": "code",
   "execution_count": 108,
   "metadata": {},
   "outputs": [
    {
     "data": {
      "text/plain": [
       "4.125639572012288"
      ]
     },
     "execution_count": 108,
     "metadata": {},
     "output_type": "execute_result"
    }
   ],
   "source": [
    "get_separatrix(a,e[-1],x)"
   ]
  },
  {
   "cell_type": "code",
   "execution_count": 109,
   "metadata": {},
   "outputs": [
    {
     "data": {
      "text/plain": [
       "199.99999"
      ]
     },
     "execution_count": 109,
     "metadata": {},
     "output_type": "execute_result"
    }
   ],
   "source": [
    "traj_module.func.max_p(0.0,x,0)"
   ]
  },
  {
   "cell_type": "code",
   "execution_count": 110,
   "metadata": {},
   "outputs": [],
   "source": [
    "import time\n",
    "from tqdm import tqdm\n",
    "from numpy.random import seed, uniform, randint\n",
    "\n",
    "def gen_parameters_get_mu_at_t(NEVAL, duration, seed_in=314159):\n",
    "\n",
    "    traj_module = EMRIInspiral(func=PN5)\n",
    "\n",
    "    M_range = [1E5, 1E7]\n",
    "    p_range = [7.5, 200]\n",
    "    a_range = [0.0, 0.999]\n",
    "    e_range = [0.0, 0.7]\n",
    "\n",
    "    x0 = 1.0  # will be ignored in Schwarzschild waveform\n",
    "    qK = np.pi / 3  # polar spin angle\n",
    "    phiK = np.pi / 3  # azimuthal viewing angle\n",
    "    qS = np.pi / 3  # polar sky angle\n",
    "    phiS = np.pi / 3  # azimuthal viewing angle\n",
    "    distance = 1.0  # distance\n",
    "    # initial phases\n",
    "    Phi_phi0 = np.pi / 3\n",
    "    Phi_theta0 = 0.0\n",
    "    Phi_r0 = np.pi / 3\n",
    "\n",
    "    _base_params = [\n",
    "        1E5, # M\n",
    "        10,  # mu\n",
    "        0.0, # a\n",
    "        0.0, # p0\n",
    "        0.0, # e0\n",
    "        x0,\n",
    "        distance,\n",
    "        qS,\n",
    "        phiS,\n",
    "        qK,\n",
    "        phiK,\n",
    "        Phi_phi0,\n",
    "        Phi_theta0,\n",
    "        Phi_r0,\n",
    "    ]\n",
    "\n",
    "    seed(seed_in)\n",
    "    M_seed, mu_seed, a_seed, e_seed = randint(1E3, 1E5, size=4)\n",
    "\n",
    "    seed(M_seed)\n",
    "    M_list = uniform(low=M_range[0], high=M_range[1], size=NEVAL)\n",
    "    seed(mu_seed)\n",
    "    p_list = uniform(low=p_range[0], high=p_range[1], size=NEVAL)\n",
    "    seed(a_seed)\n",
    "    a_list = uniform(low=a_range[0], high=a_range[1], size=NEVAL)\n",
    "    seed(e_seed)\n",
    "    e_list = uniform(low=e_range[0], high=e_range[1], size=NEVAL)\n",
    "\n",
    "    output_params_list = []\n",
    "    failed_params_list = []\n",
    "\n",
    "    for i, (M, p, a, e) in enumerate(zip(\n",
    "        M_list,\n",
    "        p_list,\n",
    "        a_list,\n",
    "        e_list,\n",
    "    )):\n",
    "\n",
    "        try:\n",
    "            print(f\"{i+1}:\\t{M},{a},{p},{e}\")\n",
    "            updated_params = _base_params.copy()\n",
    "\n",
    "            updated_params[0] = M\n",
    "            updated_params[2] = a\n",
    "            updated_params[3] = p\n",
    "            updated_params[4] = e\n",
    "            updated_params[1] = get_mu_at_t(\n",
    "                traj_module,\n",
    "                duration,\n",
    "                [updated_params[0], updated_params[2], updated_params[3], updated_params[4], 1.0],\n",
    "                traj_kwargs={},\n",
    "                xtol=2e-6,\n",
    "                rtol=8.881784197001252e-6,\n",
    "            )\n",
    "\n",
    "            output_params_list.append(\n",
    "                updated_params.copy()\n",
    "            )\n",
    "        except ValueError:\n",
    "            failed_params_list.append([M, a,p,e, duration])\n",
    "\n",
    "    return output_params_list, failed_params_list"
   ]
  },
  {
   "cell_type": "code",
   "execution_count": 111,
   "metadata": {},
   "outputs": [
    {
     "name": "stdout",
     "output_type": "stream",
     "text": [
      "1:\t7528789.672533787,0.3752060897745056,41.722142159782344,0.651209597986741\n",
      "2:\t1281947.9377273768,0.4580015044762742,184.47614355279518,0.34502973821749355\n",
      "3:\t6470770.719597565,0.6659065663627028,102.14047645312527,0.34951513004817675\n",
      "4:\t334030.98578656407,0.26884300705806474,182.18223772681796,0.10683087524994689\n",
      "5:\t9817473.768935325,0.2672592260103285,94.5420956610437,0.14211248540666205\n",
      "6:\t4606459.965995781,0.40489220444883717,62.82239317548156,0.315185953606297\n",
      "7:\t5833629.230585137,0.6831513118499937,167.71581815318675,0.14864752042927268\n",
      "8:\t5724335.498577699,0.914898707421983,127.87747948757645,0.23268378915847462\n",
      "9:\t9078585.17403247,0.8086310321218645,58.00915090011811,0.5084753347346805\n",
      "10:\t7795387.1860655155,0.364811312088126,174.97946647710185,0.5516399016603034\n",
      "11:\t7777048.420717323,0.07006576152979803,163.78213733229632,0.06239611780731375\n",
      "12:\t984136.430075891,0.5132274913648944,196.05954245070362,0.6351125011665948\n",
      "13:\t118067.84680330544,0.37574066063913947,159.0051353147967,0.30063052911012084\n",
      "14:\t1067859.10810472,0.48174555058964896,27.325648555718434,0.3087510907200777\n",
      "15:\t9301812.744563673,0.24975043286124338,193.03692947125515,0.10581117605106065\n",
      "16:\t711304.9464367304,0.4453183271997462,118.83675608463957,0.5647999121128611\n",
      "17:\t7450971.963367575,0.8368856068911681,15.686356040147516,0.08273800296556078\n",
      "18:\t4414730.879844922,0.8313649189439852,48.080981961325456,0.03527420079288772\n",
      "19:\t3218491.1263205474,0.21432619463550792,104.04499582697389,0.4139456357726405\n",
      "20:\t6942525.8431558525,0.9932491634196301,86.68803130897737,0.5887518079556855\n",
      "21:\t5423946.552566221,0.00938801433392532,15.453113397341648,0.09689152112871416\n",
      "22:\t3978982.441574829,0.4841668911488076,116.0383484978369,0.015526872929156109\n",
      "23:\t7875528.845400005,0.45749120501913687,190.96099938933244,0.29455154997084293\n",
      "24:\t7988376.079829499,0.6519120941374578,97.51193631759782,0.23945399410023913\n",
      "25:\t200623.20277548902,0.8609834849107235,189.26774238733947,0.562957033760929\n"
     ]
    }
   ],
   "source": [
    "params = gen_parameters_get_mu_at_t(25, 1.,314159)"
   ]
  },
  {
   "cell_type": "code",
   "execution_count": 112,
   "metadata": {},
   "outputs": [
    {
     "data": {
      "text/plain": [
       "15"
      ]
     },
     "execution_count": 112,
     "metadata": {},
     "output_type": "execute_result"
    }
   ],
   "source": [
    "len(params[1])"
   ]
  },
  {
   "cell_type": "code",
   "execution_count": 113,
   "metadata": {},
   "outputs": [
    {
     "data": {
      "text/plain": [
       "[np.float64(6470770.719597565),\n",
       " np.float64(0.6659065663627028),\n",
       " np.float64(102.14047645312527),\n",
       " np.float64(0.34951513004817675),\n",
       " 1.0]"
      ]
     },
     "execution_count": 113,
     "metadata": {},
     "output_type": "execute_result"
    }
   ],
   "source": [
    "params[1][1]"
   ]
  },
  {
   "cell_type": "code",
   "execution_count": 114,
   "metadata": {},
   "outputs": [
    {
     "ename": "ValueError",
     "evalue": "No solution found within the bounds for secondary mass.",
     "output_type": "error",
     "traceback": [
      "\u001b[31m---------------------------------------------------------------------------\u001b[39m",
      "\u001b[31mValueError\u001b[39m                                Traceback (most recent call last)",
      "\u001b[36mCell\u001b[39m\u001b[36m \u001b[39m\u001b[32mIn[114]\u001b[39m\u001b[32m, line 7\u001b[39m\n\u001b[32m      5\u001b[39m t_out = \u001b[32m1.\u001b[39m\n\u001b[32m      6\u001b[39m \u001b[38;5;66;03m# run trajectory\u001b[39;00m\n\u001b[32m----> \u001b[39m\u001b[32m7\u001b[39m mu_new = \u001b[43mget_mu_at_t\u001b[49m\u001b[43m(\u001b[49m\n\u001b[32m      8\u001b[39m \u001b[43m    \u001b[49m\u001b[43mtraj_module\u001b[49m\u001b[43m,\u001b[49m\n\u001b[32m      9\u001b[39m \u001b[43m    \u001b[49m\u001b[43mt_out\u001b[49m\u001b[43m,\u001b[49m\n\u001b[32m     10\u001b[39m \u001b[43m    \u001b[49m\u001b[43mtraj_args\u001b[49m\u001b[43m,\u001b[49m\n\u001b[32m     11\u001b[39m \u001b[43m    \u001b[49m\u001b[43mindex_of_mu\u001b[49m\u001b[43m=\u001b[49m\u001b[43mindex_of_mu\u001b[49m\u001b[43m,\u001b[49m\n\u001b[32m     12\u001b[39m \u001b[43m    \u001b[49m\u001b[43mtraj_kwargs\u001b[49m\u001b[43m=\u001b[49m\u001b[43mtraj_kwargs\u001b[49m\u001b[43m,\u001b[49m\n\u001b[32m     13\u001b[39m \u001b[43m    \u001b[49m\u001b[43mxtol\u001b[49m\u001b[43m=\u001b[49m\u001b[32;43m2e-12\u001b[39;49m\u001b[43m,\u001b[49m\n\u001b[32m     14\u001b[39m \u001b[43m    \u001b[49m\u001b[43mrtol\u001b[49m\u001b[43m=\u001b[49m\u001b[32;43m8.881784197001252e-16\u001b[39;49m\u001b[43m,\u001b[49m\n\u001b[32m     15\u001b[39m \u001b[43m    \u001b[49m\u001b[43mbounds\u001b[49m\u001b[43m=\u001b[49m\u001b[38;5;28;43;01mNone\u001b[39;49;00m\u001b[43m,\u001b[49m\n\u001b[32m     16\u001b[39m \u001b[43m)\u001b[49m\n\u001b[32m     18\u001b[39m \u001b[38;5;28mprint\u001b[39m(\n\u001b[32m     19\u001b[39m     \u001b[33m\"\u001b[39m\u001b[33mmu = \u001b[39m\u001b[38;5;132;01m{}\u001b[39;00m\u001b[33m will create a waveform that is \u001b[39m\u001b[38;5;132;01m{}\u001b[39;00m\u001b[33m years long, given the other input parameters.\u001b[39m\u001b[33m\"\u001b[39m.format(\n\u001b[32m     20\u001b[39m         mu_new, t_out\n\u001b[32m     21\u001b[39m     )\n\u001b[32m     22\u001b[39m )\n",
      "\u001b[36mFile \u001b[39m\u001b[32m~/Documents/Codes/FastEMRIWaveforms-Soton-Hackathon-2025/src/few/utils/utility.py:1920\u001b[39m, in \u001b[36mget_mu_at_t\u001b[39m\u001b[34m(traj_module, t_out, traj_args, index_of_mu, bounds, **kwargs)\u001b[39m\n\u001b[32m   1918\u001b[39m t, p, e, xI, Phi_phi, Phi_theta, Phi_r = traj_module(*traj_pars, T=t_out*\u001b[32m1.001\u001b[39m)\n\u001b[32m   1919\u001b[39m \u001b[38;5;28;01mif\u001b[39;00m t[-\u001b[32m1\u001b[39m] >= t_out*YRSID_SI:\n\u001b[32m-> \u001b[39m\u001b[32m1920\u001b[39m     \u001b[38;5;28;01mraise\u001b[39;00m \u001b[38;5;167;01mValueError\u001b[39;00m(\u001b[33m\"\u001b[39m\u001b[33mNo solution found within the bounds for secondary mass.\u001b[39m\u001b[33m\"\u001b[39m)\n\u001b[32m   1923\u001b[39m root = get_at_t(traj_module, traj_args, bounds, t_out, index_of_mu, **kwargs)\n\u001b[32m   1924\u001b[39m \u001b[38;5;28;01mreturn\u001b[39;00m root\n",
      "\u001b[31mValueError\u001b[39m: No solution found within the bounds for secondary mass."
     ]
    }
   ],
   "source": [
    "traj_args = params[1][1]\n",
    "traj_kwargs = {}\n",
    "index_of_mu = 1\n",
    "\n",
    "t_out = 1.\n",
    "# run trajectory\n",
    "mu_new = get_mu_at_t(\n",
    "    traj_module,\n",
    "    t_out,\n",
    "    traj_args,\n",
    "    index_of_mu=index_of_mu,\n",
    "    traj_kwargs=traj_kwargs,\n",
    "    xtol=2e-12,\n",
    "    rtol=8.881784197001252e-16,\n",
    "    bounds=None,\n",
    ")\n",
    "\n",
    "print(\n",
    "    \"mu = {} will create a waveform that is {} years long, given the other input parameters.\".format(\n",
    "        mu_new, t_out\n",
    "    )\n",
    ")"
   ]
  },
  {
   "cell_type": "markdown",
   "metadata": {},
   "source": [
    "# Designing the Unit Tests"
   ]
  },
  {
   "cell_type": "markdown",
   "metadata": {},
   "source": [
    "### Constants of motion"
   ]
  },
  {
   "cell_type": "code",
   "execution_count": 84,
   "metadata": {},
   "outputs": [],
   "source": [
    "from few.utils.utility import ELQ_to_pex,get_kerr_geo_constants_of_motion"
   ]
  },
  {
   "cell_type": "code",
   "execution_count": 88,
   "metadata": {},
   "outputs": [
    {
     "data": {
      "text/plain": [
       "[True, True, True]"
      ]
     },
     "execution_count": 88,
     "metadata": {},
     "output_type": "execute_result"
    }
   ],
   "source": [
    "a = 0.9\n",
    "p = 10.\n",
    "e = 0.3\n",
    "x = 0.5\n",
    "\n",
    "E, L, Q = get_kerr_geo_constants_of_motion(a, p, e, x)\n",
    "\n",
    "p_new, e_new, x_new = ELQ_to_pex(a, E, L, Q)\n",
    "\n",
    "[abs(p_new - p) < 1e-13, abs(e_new - e) < 1e-13, abs(x_new - x) < 1e-13]"
   ]
  },
  {
   "cell_type": "markdown",
   "metadata": {},
   "source": [
    "### get_mu_at_t function"
   ]
  },
  {
   "cell_type": "code",
   "execution_count": null,
   "metadata": {},
   "outputs": [],
   "source": [
    "from few.trajectory.inspiral import EMRIInspiral\n",
    "from few.trajectory.ode import KerrEccEqFlux\n",
    "from few.utils.utility import get_mu_at_t\n",
    "\n",
    "traj_module = EMRIInspiral(func=KerrEccEqFlux)\n",
    "\n"
   ]
  },
  {
   "cell_type": "code",
   "execution_count": 139,
   "metadata": {},
   "outputs": [
    {
     "data": {
      "text/plain": [
       "np.float64(0.0)"
      ]
     },
     "execution_count": 139,
     "metadata": {},
     "output_type": "execute_result"
    }
   ],
   "source": [
    "m1 = 1e6\n",
    "\n",
    "a = 0.9\n",
    "p0 = 10.\n",
    "e0 = 0.3\n",
    "x0 = 1.\n",
    "\n",
    "traj_args = [M, a, p0, e0, x0]\n",
    "traj_kwargs = {}\n",
    "index_of_mu = 1\n",
    "\n",
    "t_out = 1.\n",
    "\n",
    "m2 = get_mu_at_t(traj_module,t_out,traj_args,index_of_mu=index_of_mu,traj_kwargs=traj_kwargs)\n",
    "\n",
    "\n",
    "\n",
    "traj_args = [M, mu, a, p0, e0, x]\n",
    "\n",
    "t, p, e, xI, Phi_phi, Phi_theta, Phi_r = traj_module(*traj_args, T=t_out)\n",
    "t[-1] - t_out*YRSID_SI"
   ]
  },
  {
   "cell_type": "markdown",
   "metadata": {},
   "source": [
    "### get_p_at_t function"
   ]
  },
  {
   "cell_type": "code",
   "execution_count": 10,
   "metadata": {},
   "outputs": [
    {
     "data": {
      "text/plain": [
       "np.float64(1.8512968935624485e-12)"
      ]
     },
     "execution_count": 10,
     "metadata": {},
     "output_type": "execute_result"
    }
   ],
   "source": [
    "m1 = 1e6\n",
    "m2 = 10\n",
    "a = 0.9\n",
    "e0 = 0.3\n",
    "x0 = 1.\n",
    "\n",
    "traj_args = [m1,m2,a, e0, x0]\n",
    "traj_kwargs = {}\n",
    "index_of_p = 3\n",
    "\n",
    "t_out = 1.\n",
    "\n",
    "p0 = get_p_at_t(traj_module,t_out,traj_args,index_of_p=index_of_p,traj_kwargs=traj_kwargs)\n",
    "\n",
    "\n",
    "\n",
    "traj_args = [m1, m2, a, p0, e0, x0]\n",
    "\n",
    "t, p, e, xI, Phi_phi, Phi_theta, Phi_r = traj_module(*traj_args, T=t_out)\n",
    "1 - t[-1]/ (t_out*YRSID_SI)"
   ]
  },
  {
   "cell_type": "markdown",
   "metadata": {},
   "source": [
    "### get_separatrix"
   ]
  },
  {
   "cell_type": "code",
   "execution_count": null,
   "metadata": {},
   "outputs": [
    {
     "data": {
      "text/plain": [
       "-1.7763568394002505e-15"
      ]
     },
     "execution_count": 11,
     "metadata": {},
     "output_type": "execute_result"
    }
   ],
   "source": [
    "from few.utils.utility import get_separatrix\n",
    "\n",
    "# Generic Case\n",
    "a= 0.9\n",
    "e = 0.3\n",
    "x = 0.5\n",
    "\n",
    "p_sep = get_separatrix(a, e, x)\n",
    "\n",
    "p_sep_KerrGeo = 4.100908189793339\n",
    "\n",
    "p_sep_KerrGeo - p_sep"
   ]
  },
  {
   "cell_type": "code",
   "execution_count": 16,
   "metadata": {},
   "outputs": [
    {
     "data": {
      "text/plain": [
       "7.0"
      ]
     },
     "execution_count": 16,
     "metadata": {},
     "output_type": "execute_result"
    }
   ],
   "source": [
    "# Schwarzschild Circular Case\n",
    "a= 0\n",
    "e = 0.5\n",
    "x = 0.5\n",
    "\n",
    "p_sep = get_separatrix(a, e, x)\n",
    "p_sep"
   ]
  },
  {
   "cell_type": "code",
   "execution_count": 15,
   "metadata": {},
   "outputs": [
    {
     "data": {
      "text/plain": [
       "9.0"
      ]
     },
     "execution_count": 15,
     "metadata": {},
     "output_type": "execute_result"
    }
   ],
   "source": [
    "a= 1\n",
    "e = 0\n",
    "x = -1\n",
    "\n",
    "p_sep = get_separatrix(a, e, x)\n",
    "p_sep"
   ]
  },
  {
   "cell_type": "markdown",
   "metadata": {},
   "source": [
    "### Frequencies"
   ]
  },
  {
   "cell_type": "code",
   "execution_count": 22,
   "metadata": {},
   "outputs": [
    {
     "data": {
      "text/plain": [
       "[3.02396996332277e-14, 2.6045138268315782e-14, 1.9463597400459776e-14]"
      ]
     },
     "execution_count": 22,
     "metadata": {},
     "output_type": "execute_result"
    }
   ],
   "source": [
    "from few.utils.utility import get_fundamental_frequencies\n",
    "\n",
    "a= 0.9\n",
    "e = 0.3\n",
    "p = 10.\n",
    "x = 0.5\n",
    "\n",
    "OmegaPhi, OmegaTheta, OmegaR = get_fundamental_frequencies(a, p, e, x)\n",
    " \n",
    " # Taken from the KerrGeodesics Mathematica package\n",
    "OmegaPhiKerrGeo, OmegaThetaKerrGeo, OmegaRKerrGeo = 0.028478026708595002, 0.027032450748133277, 0.020053165349083846 \n",
    "\n",
    "[abs(OmegaPhi - OmegaPhiKerrGeo), abs(OmegaTheta - OmegaThetaKerrGeo), abs(OmegaR - OmegaRKerrGeo)]"
   ]
  },
  {
   "cell_type": "code",
   "execution_count": null,
   "metadata": {},
   "outputs": [],
   "source": []
  },
  {
   "cell_type": "markdown",
   "metadata": {},
   "source": [
    "# Debugging hanging integrator problem"
   ]
  },
  {
   "cell_type": "code",
   "execution_count": 16,
   "metadata": {},
   "outputs": [],
   "source": [
    "from few.trajectory.inspiral import EMRIInspiral\n",
    "import matplotlib.pyplot as plt\n",
    "\n",
    "tr = EMRIInspiral(func=\"KerrEccEqFlux\")"
   ]
  },
  {
   "cell_type": "code",
   "execution_count": 19,
   "metadata": {},
   "outputs": [
    {
     "name": "stdout",
     "output_type": "stream",
     "text": [
      "[    0.          5164.14752392 10328.29504784 12897.56173294\n",
      " 14899.22099815 14990.12113768]\n"
     ]
    },
    {
     "data": {
      "text/plain": [
       "[<matplotlib.lines.Line2D at 0x357cff890>]"
      ]
     },
     "execution_count": 19,
     "metadata": {},
     "output_type": "execute_result"
    },
    {
     "data": {
      "image/png": "[encoded data removed]",
      "text/plain": [
       "<Figure size 640x480 with 1 Axes>"
      ]
     },
     "metadata": {},
     "output_type": "display_data"
    }
   ],
   "source": [
    "\n",
    "a = 0.99889\n",
    "e0 = 0.3\n",
    "\n",
    "minp = tr.func.min_p(e0, 1., a) + 1e-2\n",
    "\n",
    "# traj = tr(1e6, 1e1, a, minp, e0, 1., dt = 1e-3, T=4.7e-5)\n",
    "traj = tr(1e6, 1e1, a, minp, e0, 1., dt = 1e-3, T=4.75e-4)\n",
    "print(traj[0])\n",
    "minps = [tr.func.min_p(traj[2][k], 1., a) - 1e-5  for k in range(len(traj[0]))]\n",
    "plt.plot(traj[1], traj[2])\n",
    "plt.plot(minps, traj[2], 'r')"
   ]
  },
  {
   "cell_type": "code",
   "execution_count": null,
   "metadata": {},
   "outputs": [],
   "source": [
    "a = 0.99889\n",
    "e0 = 0.3\n",
    "M = 1e6\n",
    "mu = 1e1\n",
    "minp = tr.func.min_p(e0, 1., a) + 1e-2\n",
    "\n",
    "# traj = tr(1e6, 1e1, a, minp, e0, 1., dt = 1e-3, T=4.7e-5)\n",
    "traj = tr(1e6, 1e1, a, minp, e0, 1., dt = 1e-3, T=4.75e-4)\n",
    "print(traj[0])\n",
    "minps = [tr.func.min_p(traj[2][k], 1., a) - 1e-5  for k in range(len(traj[0]))]\n",
    "plt.plot(traj[1], traj[2])\n",
    "plt.plot(minps, traj[2], 'r')"
   ]
  },
  {
   "cell_type": "code",
   "execution_count": 32,
   "metadata": {},
   "outputs": [
    {
     "data": {
      "text/plain": [
       "1.4461520395093892"
      ]
     },
     "execution_count": 32,
     "metadata": {},
     "output_type": "execute_result"
    }
   ],
   "source": [
    "tr.func.min_p(e0, 1., a)"
   ]
  },
  {
   "cell_type": "code",
   "execution_count": 50,
   "metadata": {},
   "outputs": [
    {
     "data": {
      "text/plain": [
       "[-0.5367472184777032,\n",
       " -0.07735738100523581,\n",
       " 0.0,\n",
       " 0.4172738859855943,\n",
       " 0.0837519393726852,\n",
       " 0.019679508891182432]"
      ]
     },
     "execution_count": 50,
     "metadata": {},
     "output_type": "execute_result"
    }
   ],
   "source": [
    "tr.func.evaluate_rhs([1.445,e0,1.])"
   ]
  },
  {
   "cell_type": "code",
   "execution_count": null,
   "metadata": {},
   "outputs": [],
   "source": []
  }
 ],
 "metadata": {
  "kernelspec": {
   "display_name": "few_soton",
   "language": "python",
   "name": "python3"
  },
  "language_info": {
   "codemirror_mode": {
    "name": "ipython",
    "version": 3
   },
   "file_extension": ".py",
   "mimetype": "text/x-python",
   "name": "python",
   "nbconvert_exporter": "python",
   "pygments_lexer": "ipython3",
   "version": "3.12.9"
  }
 },
 "nbformat": 4,
 "nbformat_minor": 2
}
