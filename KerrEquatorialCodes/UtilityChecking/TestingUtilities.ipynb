{
 "cells": [
  {
   "cell_type": "markdown",
   "metadata": {},
   "source": [
    "# Testing the Utility Functions"
   ]
  },
  {
   "cell_type": "code",
   "execution_count": 1,
   "metadata": {},
   "outputs": [],
   "source": [
    "import numpy as np\n"
   ]
  },
  {
   "cell_type": "markdown",
   "metadata": {},
   "source": [
    "## Geting parameters for a certain observation time"
   ]
  },
  {
   "cell_type": "markdown",
   "metadata": {},
   "source": [
    "### get_p_at_t()"
   ]
  },
  {
   "cell_type": "code",
   "execution_count": 15,
   "metadata": {},
   "outputs": [],
   "source": [
    "from few.trajectory.inspiral import EMRIInspiral\n",
    "from few.trajectory.ode import KerrEccEqFlux\n",
    "from few.trajectory.ode import SchwarzEccFlux\n",
    "from few.utils.utility import get_p_at_t\n",
    "\n",
    "traj_module = EMRIInspiral(func=KerrEccEqFlux)"
   ]
  },
  {
   "cell_type": "code",
   "execution_count": 18,
   "metadata": {},
   "outputs": [
    {
     "data": {
      "text/plain": [
       "np.float64(2.4314901991706392)"
      ]
     },
     "execution_count": 18,
     "metadata": {},
     "output_type": "execute_result"
    }
   ],
   "source": [
    "M = 1e6\n",
    "mu = 1e2\n",
    "a = 0.9  # This model supports a spinning primary compact object\n",
    "p0 = 10.0\n",
    "e0 = 0.8\n",
    "xI0 = 1.0  # +1 for prograde, -1 for retrograde inspirals\n",
    "\n",
    "T = 1.0  # duration of trajectory in years (as defined by few.utils.constants.YRSID_SI)\n",
    "\n",
    "traj_pars = [M, mu, a, p0, e0, xI0]\n",
    "\n",
    "t, p, e, xI, Phi_phi, Phi_theta, Phi_r = traj_module(*traj_pars, T=T)\n",
    "p[-1]\n"
   ]
  },
  {
   "cell_type": "code",
   "execution_count": null,
   "metadata": {},
   "outputs": [],
   "source": [
    "# Looks like there's a more basic problem here.\n",
    "# Test a single trajectory"
   ]
  },
  {
   "cell_type": "code",
   "execution_count": null,
   "metadata": {},
   "outputs": [
    {
     "ename": "TypeError",
     "evalue": "not enough arguments: expected 4, got 3",
     "output_type": "error",
     "traceback": [
      "\u001b[31m---------------------------------------------------------------------------\u001b[39m",
      "\u001b[31mTypeError\u001b[39m                                 Traceback (most recent call last)",
      "\u001b[36mCell\u001b[39m\u001b[36m \u001b[39m\u001b[32mIn[19]\u001b[39m\u001b[32m, line 19\u001b[39m\n\u001b[32m     17\u001b[39m t_out = \u001b[32m1.\u001b[39m\n\u001b[32m     18\u001b[39m \u001b[38;5;66;03m# run trajectory\u001b[39;00m\n\u001b[32m---> \u001b[39m\u001b[32m19\u001b[39m p_new = \u001b[43mget_p_at_t\u001b[49m\u001b[43m(\u001b[49m\n\u001b[32m     20\u001b[39m \u001b[43m    \u001b[49m\u001b[43mtraj_module\u001b[49m\u001b[43m,\u001b[49m\n\u001b[32m     21\u001b[39m \u001b[43m    \u001b[49m\u001b[43mt_out\u001b[49m\u001b[43m,\u001b[49m\n\u001b[32m     22\u001b[39m \u001b[43m    \u001b[49m\u001b[43mtraj_args\u001b[49m\u001b[43m,\u001b[49m\n\u001b[32m     23\u001b[39m \u001b[43m    \u001b[49m\u001b[43mindex_of_p\u001b[49m\u001b[43m=\u001b[49m\u001b[32;43m3\u001b[39;49m\u001b[43m,\u001b[49m\n\u001b[32m     24\u001b[39m \u001b[43m    \u001b[49m\u001b[43mindex_of_a\u001b[49m\u001b[43m=\u001b[49m\u001b[32;43m2\u001b[39;49m\u001b[43m,\u001b[49m\n\u001b[32m     25\u001b[39m \u001b[43m    \u001b[49m\u001b[43mindex_of_e\u001b[49m\u001b[43m=\u001b[49m\u001b[32;43m4\u001b[39;49m\u001b[43m,\u001b[49m\n\u001b[32m     26\u001b[39m \u001b[43m    \u001b[49m\u001b[43mindex_of_x\u001b[49m\u001b[43m=\u001b[49m\u001b[32;43m5\u001b[39;49m\u001b[43m,\u001b[49m\n\u001b[32m     27\u001b[39m \u001b[43m    \u001b[49m\u001b[43mtraj_kwargs\u001b[49m\u001b[43m=\u001b[49m\u001b[43m{\u001b[49m\u001b[43m}\u001b[49m\u001b[43m,\u001b[49m\n\u001b[32m     28\u001b[39m \u001b[43m    \u001b[49m\u001b[43mxtol\u001b[49m\u001b[43m=\u001b[49m\u001b[32;43m2e-12\u001b[39;49m\u001b[43m,\u001b[49m\n\u001b[32m     29\u001b[39m \u001b[43m    \u001b[49m\u001b[43mrtol\u001b[49m\u001b[43m=\u001b[49m\u001b[32;43m8.881784197001252e-16\u001b[39;49m\u001b[43m,\u001b[49m\n\u001b[32m     30\u001b[39m \u001b[43m    \u001b[49m\u001b[43mbounds\u001b[49m\u001b[43m=\u001b[49m\u001b[38;5;28;43;01mNone\u001b[39;49;00m\u001b[43m,\u001b[49m\n\u001b[32m     31\u001b[39m \u001b[43m)\u001b[49m\n\u001b[32m     33\u001b[39m \u001b[38;5;28mprint\u001b[39m(\n\u001b[32m     34\u001b[39m     \u001b[33m\"\u001b[39m\u001b[33mp0 = \u001b[39m\u001b[38;5;132;01m{}\u001b[39;00m\u001b[33m will create a waveform that is \u001b[39m\u001b[38;5;132;01m{}\u001b[39;00m\u001b[33m years long, given the other input parameters.\u001b[39m\u001b[33m\"\u001b[39m.format(\n\u001b[32m     35\u001b[39m         p_new, t_out\n\u001b[32m     36\u001b[39m     )\n\u001b[32m     37\u001b[39m )\n",
      "\u001b[36mFile \u001b[39m\u001b[32m~/Documents/Codes/FastEMRIWaveforms-Soton-Hackathon-2025/src/few/utils/utility.py:1822\u001b[39m, in \u001b[36mget_p_at_t\u001b[39m\u001b[34m(traj_module, t_out, traj_args, index_of_p, index_of_a, index_of_e, index_of_x, bounds, **kwargs)\u001b[39m\n\u001b[32m   1820\u001b[39m \u001b[38;5;28;01mif\u001b[39;00m bounds[\u001b[32m0\u001b[39m] \u001b[38;5;129;01mis\u001b[39;00m \u001b[38;5;28;01mNone\u001b[39;00m:\n\u001b[32m   1821\u001b[39m     \u001b[38;5;28;01mif\u001b[39;00m \u001b[38;5;129;01mnot\u001b[39;00m enforce_schwarz_sep:\n\u001b[32m-> \u001b[39m\u001b[32m1822\u001b[39m         bounds[\u001b[32m0\u001b[39m] = \u001b[43mtraj_module\u001b[49m\u001b[43m.\u001b[49m\u001b[43mfunc\u001b[49m\u001b[43m.\u001b[49m\u001b[43mmin_p\u001b[49m\u001b[43m(\u001b[49m\n\u001b[32m   1823\u001b[39m \u001b[43m            \u001b[49m\u001b[43mtraj_args\u001b[49m\u001b[43m[\u001b[49m\u001b[43mindex_of_e\u001b[49m\u001b[43m]\u001b[49m\u001b[43m,\u001b[49m\u001b[43m \u001b[49m\u001b[43mtraj_args\u001b[49m\u001b[43m[\u001b[49m\u001b[43mindex_of_x\u001b[49m\u001b[43m]\u001b[49m\u001b[43m,\u001b[49m\u001b[43m \u001b[49m\u001b[43ma\u001b[49m\u001b[43m=\u001b[49m\u001b[43mtraj_args\u001b[49m\u001b[43m[\u001b[49m\u001b[43mindex_of_a\u001b[49m\u001b[43m]\u001b[49m\n\u001b[32m   1824\u001b[39m \u001b[43m        \u001b[49m\u001b[43m)\u001b[49m\n\u001b[32m   1825\u001b[39m     \u001b[38;5;28;01melse\u001b[39;00m:\n\u001b[32m   1826\u001b[39m         bounds[\u001b[32m0\u001b[39m] = \u001b[38;5;28mmin\u001b[39m(\n\u001b[32m   1827\u001b[39m             traj_module.func.min_p(\n\u001b[32m   1828\u001b[39m                 traj_args[index_of_e],\n\u001b[32m   (...)\u001b[39m\u001b[32m   1832\u001b[39m             \u001b[32m6\u001b[39m + \u001b[32m2\u001b[39m * traj_args[index_of_e],\n\u001b[32m   1833\u001b[39m         )\n",
      "\u001b[36mFile \u001b[39m\u001b[32m~/Documents/Codes/FastEMRIWaveforms-Soton-Hackathon-2025/src/few/trajectory/ode/flux.py:337\u001b[39m, in \u001b[36mKerrEccEqFlux.min_p\u001b[39m\u001b[34m(self, e, x, a)\u001b[39m\n\u001b[32m    334\u001b[39m z = z_of_a(a_in)\n\u001b[32m    335\u001b[39m p_sep = get_separatrix(a, e, x)\n\u001b[32m--> \u001b[39m\u001b[32m337\u001b[39m \u001b[38;5;28;01mif\u001b[39;00m \u001b[43mw_of_euz\u001b[49m\u001b[43m(\u001b[49m\u001b[43me\u001b[49m\u001b[43m,\u001b[49m\u001b[43m \u001b[49m\u001b[32;43m0.\u001b[39;49m\u001b[43m,\u001b[49m\u001b[43m \u001b[49m\u001b[43mz\u001b[49m\u001b[43m)\u001b[49m > \u001b[32m1\u001b[39m:\n\u001b[32m    338\u001b[39m     u_min = u_where_w_is_unity(e, z, kind=\u001b[33m\"\u001b[39m\u001b[33mflux\u001b[39m\u001b[33m\"\u001b[39m)\n\u001b[32m    339\u001b[39m \u001b[38;5;28;01melse\u001b[39;00m:\n",
      "\u001b[31mTypeError\u001b[39m: not enough arguments: expected 4, got 3"
     ]
    }
   ],
   "source": [
    "\n",
    "\n",
    "# set initial parameters\n",
    "#M = 9700484.894655073\n",
    "#mu = 25.806654874357793\n",
    "#e0 = 0.7735415084736439\n",
    "#a= 0.6834440767965327\n",
    "from few.trajectory.ode import KerrEccEqFlux\n",
    "from few.trajectory.ode import SchwarzEccFlux\n",
    "\n",
    "traj_module = EMRIInspiral(func=KerrEccEqFlux)\n",
    "\n",
    "M = 1e6\n",
    "mu = 5e1\n",
    "e0 = 0.5\n",
    "a = 0.5\n",
    "x = 1.\n",
    "\n",
    "traj_args = [M, mu, a, e0, x]\n",
    "traj_kwargs = {}\n",
    "#index_of_p = 3\n",
    "\n",
    "t_out = 1.\n",
    "# run trajectory\n",
    "p_new = get_p_at_t(\n",
    "    traj_module,\n",
    "    t_out,\n",
    "    traj_args,\n",
    "    index_of_p=3,\n",
    "    index_of_a=2,\n",
    "    index_of_e=4,\n",
    "    index_of_x=5,\n",
    "    traj_kwargs={},\n",
    "    xtol=2e-12,\n",
    "    rtol=8.881784197001252e-16,\n",
    "    bounds=None,\n",
    ")\n",
    "\n",
    "print(\n",
    "    \"p0 = {} will create a waveform that is {} years long, given the other input parameters.\".format(\n",
    "        p_new, t_out\n",
    "    )\n",
    ")"
   ]
  },
  {
   "cell_type": "code",
   "execution_count": 13,
   "metadata": {},
   "outputs": [],
   "source": [
    "# Jonathan's code\n",
    "\n",
    "import numpy as np\n",
    "import time\n",
    "from tqdm import tqdm\n",
    "from numpy.random import seed, uniform, randint\n",
    "\n",
    "from few.trajectory.inspiral import EMRIInspiral\n",
    "from few.trajectory.ode.flux import KerrEccEqFlux\n",
    "from few.utils.utility import get_p_at_t\n",
    "\n",
    "# 9700484.894655073, 25.806654874357793, 0.7735415084736439, 0.6834440767965327 stuck parameters\n",
    "# 352224.8117850187, 63.9495298217371, 0.424046325083201, 0.7687664552808469\n",
    "\n",
    "def gen_parameters(NEVAL, duration, seed_in=314159):\n",
    "\n",
    "    traj_module = EMRIInspiral(func=KerrEccEqFlux)\n",
    "\n",
    "    M_range = [1E5, 1E7]\n",
    "    mu_range = [1,1E2]\n",
    "    a_range = [0.0, 0.999]\n",
    "    e_range = [0.0, 0.9]\n",
    "\n",
    "    x0 = 1.0  # will be ignored in Schwarzschild waveform\n",
    "    qK = np.pi / 3  # polar spin angle\n",
    "    phiK = np.pi / 3  # azimuthal viewing angle\n",
    "    qS = np.pi / 3  # polar sky angle\n",
    "    phiS = np.pi / 3  # azimuthal viewing angle\n",
    "    distance = 1.0  # distance\n",
    "    # initial phases\n",
    "    Phi_phi0 = np.pi / 3\n",
    "    Phi_theta0 = 0.0\n",
    "    Phi_r0 = np.pi / 3\n",
    "\n",
    "    _base_params = [\n",
    "        1E5, # M\n",
    "        10,  # mu\n",
    "        0.0, # a\n",
    "        0.0, # p0\n",
    "        0.0, # e0\n",
    "        x0,\n",
    "        distance,\n",
    "        qS,\n",
    "        phiS,\n",
    "        qK,\n",
    "        phiK,\n",
    "        Phi_phi0,\n",
    "        Phi_theta0,\n",
    "        Phi_r0,\n",
    "    ]\n",
    "\n",
    "    seed(seed_in)\n",
    "    M_seed, mu_seed, a_seed, e_seed = randint(1E3, 1E5, size=4)\n",
    "\n",
    "    seed(M_seed)\n",
    "    M_list = uniform(low=M_range[0], high=M_range[1], size=NEVAL)\n",
    "    seed(mu_seed)\n",
    "    mu_list = uniform(low=mu_range[0], high=mu_range[1], size=NEVAL)\n",
    "    seed(a_seed)\n",
    "    a_list = uniform(low=a_range[0], high=a_range[1], size=NEVAL)\n",
    "    seed(e_seed)\n",
    "    e_list = uniform(low=e_range[0], high=e_range[1], size=NEVAL)\n",
    "\n",
    "    output_params_list = []\n",
    "    failed_params_list = []\n",
    "\n",
    "    for i, (M, mu, a, e) in enumerate(zip(\n",
    "        M_list,\n",
    "        mu_list,\n",
    "        a_list,\n",
    "        e_list,\n",
    "    )):\n",
    "\n",
    "        try:\n",
    "            print(f\"{i+1}:\\t{M}, {mu}, {a}, {e}\")\n",
    "            updated_params = _base_params.copy()\n",
    "\n",
    "            updated_params[0] = M\n",
    "            updated_params[1] = mu\n",
    "            updated_params[2] = a\n",
    "            updated_params[4] = e\n",
    "            updated_params[3] = get_p_at_t(\n",
    "                traj_module,\n",
    "                duration * 0.99,\n",
    "                [updated_params[0], updated_params[1], updated_params[2], updated_params[4], 1.0],\n",
    "                index_of_p=3,\n",
    "                index_of_a=2,\n",
    "                index_of_e=4,\n",
    "                index_of_x=5,\n",
    "                traj_kwargs={},\n",
    "                xtol=2e-6,\n",
    "                rtol=8.881784197001252e-6,\n",
    "            )\n",
    "\n",
    "            output_params_list.append(\n",
    "                updated_params.copy()\n",
    "            )\n",
    "        except ValueError:\n",
    "            failed_params_list.append([M, mu, a, e, duration])\n",
    "\n",
    "    return output_params_list, failed_params_list"
   ]
  },
  {
   "cell_type": "code",
   "execution_count": 14,
   "metadata": {},
   "outputs": [
    {
     "name": "stdout",
     "output_type": "stream",
     "text": [
      "1:\t7528789.672533787, 18.599958825030917, 0.3752060897745056, 0.83726948312581\n"
     ]
    },
    {
     "ename": "TypeError",
     "evalue": "not enough arguments: expected 4, got 3",
     "output_type": "error",
     "traceback": [
      "\u001b[31m---------------------------------------------------------------------------\u001b[39m",
      "\u001b[31mTypeError\u001b[39m                                 Traceback (most recent call last)",
      "\u001b[36mCell\u001b[39m\u001b[36m \u001b[39m\u001b[32mIn[14]\u001b[39m\u001b[32m, line 1\u001b[39m\n\u001b[32m----> \u001b[39m\u001b[32m1\u001b[39m \u001b[43mgen_parameters\u001b[49m\u001b[43m(\u001b[49m\u001b[32;43m50\u001b[39;49m\u001b[43m,\u001b[49m\u001b[43m \u001b[49m\u001b[32;43m1.\u001b[39;49m\u001b[43m,\u001b[49m\u001b[43m \u001b[49m\u001b[43mseed_in\u001b[49m\u001b[43m=\u001b[49m\u001b[32;43m314159\u001b[39;49m\u001b[43m)\u001b[49m\n",
      "\u001b[36mCell\u001b[39m\u001b[36m \u001b[39m\u001b[32mIn[13]\u001b[39m\u001b[32m, line 82\u001b[39m, in \u001b[36mgen_parameters\u001b[39m\u001b[34m(NEVAL, duration, seed_in)\u001b[39m\n\u001b[32m     80\u001b[39m     updated_params[\u001b[32m2\u001b[39m] = a\n\u001b[32m     81\u001b[39m     updated_params[\u001b[32m4\u001b[39m] = e\n\u001b[32m---> \u001b[39m\u001b[32m82\u001b[39m     updated_params[\u001b[32m3\u001b[39m] = \u001b[43mget_p_at_t\u001b[49m\u001b[43m(\u001b[49m\n\u001b[32m     83\u001b[39m \u001b[43m        \u001b[49m\u001b[43mtraj_module\u001b[49m\u001b[43m,\u001b[49m\n\u001b[32m     84\u001b[39m \u001b[43m        \u001b[49m\u001b[43mduration\u001b[49m\u001b[43m \u001b[49m\u001b[43m*\u001b[49m\u001b[43m \u001b[49m\u001b[32;43m0.99\u001b[39;49m\u001b[43m,\u001b[49m\n\u001b[32m     85\u001b[39m \u001b[43m        \u001b[49m\u001b[43m[\u001b[49m\u001b[43mupdated_params\u001b[49m\u001b[43m[\u001b[49m\u001b[32;43m0\u001b[39;49m\u001b[43m]\u001b[49m\u001b[43m,\u001b[49m\u001b[43m \u001b[49m\u001b[43mupdated_params\u001b[49m\u001b[43m[\u001b[49m\u001b[32;43m1\u001b[39;49m\u001b[43m]\u001b[49m\u001b[43m,\u001b[49m\u001b[43m \u001b[49m\u001b[43mupdated_params\u001b[49m\u001b[43m[\u001b[49m\u001b[32;43m2\u001b[39;49m\u001b[43m]\u001b[49m\u001b[43m,\u001b[49m\u001b[43m \u001b[49m\u001b[43mupdated_params\u001b[49m\u001b[43m[\u001b[49m\u001b[32;43m4\u001b[39;49m\u001b[43m]\u001b[49m\u001b[43m,\u001b[49m\u001b[43m \u001b[49m\u001b[32;43m1.0\u001b[39;49m\u001b[43m]\u001b[49m\u001b[43m,\u001b[49m\n\u001b[32m     86\u001b[39m \u001b[43m        \u001b[49m\u001b[43mindex_of_p\u001b[49m\u001b[43m=\u001b[49m\u001b[32;43m3\u001b[39;49m\u001b[43m,\u001b[49m\n\u001b[32m     87\u001b[39m \u001b[43m        \u001b[49m\u001b[43mindex_of_a\u001b[49m\u001b[43m=\u001b[49m\u001b[32;43m2\u001b[39;49m\u001b[43m,\u001b[49m\n\u001b[32m     88\u001b[39m \u001b[43m        \u001b[49m\u001b[43mindex_of_e\u001b[49m\u001b[43m=\u001b[49m\u001b[32;43m4\u001b[39;49m\u001b[43m,\u001b[49m\n\u001b[32m     89\u001b[39m \u001b[43m        \u001b[49m\u001b[43mindex_of_x\u001b[49m\u001b[43m=\u001b[49m\u001b[32;43m5\u001b[39;49m\u001b[43m,\u001b[49m\n\u001b[32m     90\u001b[39m \u001b[43m        \u001b[49m\u001b[43mtraj_kwargs\u001b[49m\u001b[43m=\u001b[49m\u001b[43m{\u001b[49m\u001b[43m}\u001b[49m\u001b[43m,\u001b[49m\n\u001b[32m     91\u001b[39m \u001b[43m        \u001b[49m\u001b[43mxtol\u001b[49m\u001b[43m=\u001b[49m\u001b[32;43m2e-6\u001b[39;49m\u001b[43m,\u001b[49m\n\u001b[32m     92\u001b[39m \u001b[43m        \u001b[49m\u001b[43mrtol\u001b[49m\u001b[43m=\u001b[49m\u001b[32;43m8.881784197001252e-6\u001b[39;49m\u001b[43m,\u001b[49m\n\u001b[32m     93\u001b[39m \u001b[43m    \u001b[49m\u001b[43m)\u001b[49m\n\u001b[32m     95\u001b[39m     output_params_list.append(\n\u001b[32m     96\u001b[39m         updated_params.copy()\n\u001b[32m     97\u001b[39m     )\n\u001b[32m     98\u001b[39m \u001b[38;5;28;01mexcept\u001b[39;00m \u001b[38;5;167;01mValueError\u001b[39;00m:\n",
      "\u001b[36mFile \u001b[39m\u001b[32m~/Documents/Codes/FastEMRIWaveforms-Soton-Hackathon-2025/src/few/utils/utility.py:1822\u001b[39m, in \u001b[36mget_p_at_t\u001b[39m\u001b[34m(traj_module, t_out, traj_args, index_of_p, index_of_a, index_of_e, index_of_x, bounds, **kwargs)\u001b[39m\n\u001b[32m   1820\u001b[39m \u001b[38;5;28;01mif\u001b[39;00m bounds[\u001b[32m0\u001b[39m] \u001b[38;5;129;01mis\u001b[39;00m \u001b[38;5;28;01mNone\u001b[39;00m:\n\u001b[32m   1821\u001b[39m     \u001b[38;5;28;01mif\u001b[39;00m \u001b[38;5;129;01mnot\u001b[39;00m enforce_schwarz_sep:\n\u001b[32m-> \u001b[39m\u001b[32m1822\u001b[39m         bounds[\u001b[32m0\u001b[39m] = \u001b[43mtraj_module\u001b[49m\u001b[43m.\u001b[49m\u001b[43mfunc\u001b[49m\u001b[43m.\u001b[49m\u001b[43mmin_p\u001b[49m\u001b[43m(\u001b[49m\n\u001b[32m   1823\u001b[39m \u001b[43m            \u001b[49m\u001b[43mtraj_args\u001b[49m\u001b[43m[\u001b[49m\u001b[43mindex_of_e\u001b[49m\u001b[43m]\u001b[49m\u001b[43m,\u001b[49m\u001b[43m \u001b[49m\u001b[43mtraj_args\u001b[49m\u001b[43m[\u001b[49m\u001b[43mindex_of_x\u001b[49m\u001b[43m]\u001b[49m\u001b[43m,\u001b[49m\u001b[43m \u001b[49m\u001b[43ma\u001b[49m\u001b[43m=\u001b[49m\u001b[43mtraj_args\u001b[49m\u001b[43m[\u001b[49m\u001b[43mindex_of_a\u001b[49m\u001b[43m]\u001b[49m\n\u001b[32m   1824\u001b[39m \u001b[43m        \u001b[49m\u001b[43m)\u001b[49m\n\u001b[32m   1825\u001b[39m     \u001b[38;5;28;01melse\u001b[39;00m:\n\u001b[32m   1826\u001b[39m         bounds[\u001b[32m0\u001b[39m] = \u001b[38;5;28mmin\u001b[39m(\n\u001b[32m   1827\u001b[39m             traj_module.func.min_p(\n\u001b[32m   1828\u001b[39m                 traj_args[index_of_e],\n\u001b[32m   (...)\u001b[39m\u001b[32m   1832\u001b[39m             \u001b[32m6\u001b[39m + \u001b[32m2\u001b[39m * traj_args[index_of_e],\n\u001b[32m   1833\u001b[39m         )\n",
      "\u001b[36mFile \u001b[39m\u001b[32m~/Documents/Codes/FastEMRIWaveforms-Soton-Hackathon-2025/src/few/trajectory/ode/flux.py:337\u001b[39m, in \u001b[36mKerrEccEqFlux.min_p\u001b[39m\u001b[34m(self, e, x, a)\u001b[39m\n\u001b[32m    334\u001b[39m z = z_of_a(a_in)\n\u001b[32m    335\u001b[39m p_sep = get_separatrix(a, e, x)\n\u001b[32m--> \u001b[39m\u001b[32m337\u001b[39m \u001b[38;5;28;01mif\u001b[39;00m \u001b[43mw_of_euz\u001b[49m\u001b[43m(\u001b[49m\u001b[43me\u001b[49m\u001b[43m,\u001b[49m\u001b[43m \u001b[49m\u001b[32;43m0.\u001b[39;49m\u001b[43m,\u001b[49m\u001b[43m \u001b[49m\u001b[43mz\u001b[49m\u001b[43m)\u001b[49m > \u001b[32m1\u001b[39m:\n\u001b[32m    338\u001b[39m     u_min = u_where_w_is_unity(e, z, kind=\u001b[33m\"\u001b[39m\u001b[33mflux\u001b[39m\u001b[33m\"\u001b[39m)\n\u001b[32m    339\u001b[39m \u001b[38;5;28;01melse\u001b[39;00m:\n",
      "\u001b[31mTypeError\u001b[39m: not enough arguments: expected 4, got 3"
     ]
    }
   ],
   "source": [
    "gen_parameters(50, 1., seed_in=314159)"
   ]
  },
  {
   "cell_type": "markdown",
   "metadata": {},
   "source": []
  }
 ],
 "metadata": {
  "kernelspec": {
   "display_name": "few_soton",
   "language": "python",
   "name": "python3"
  },
  "language_info": {
   "codemirror_mode": {
    "name": "ipython",
    "version": 3
   },
   "file_extension": ".py",
   "mimetype": "text/x-python",
   "name": "python",
   "nbconvert_exporter": "python",
   "pygments_lexer": "ipython3",
   "version": "3.12.9"
  }
 },
 "nbformat": 4,
 "nbformat_minor": 2
}
