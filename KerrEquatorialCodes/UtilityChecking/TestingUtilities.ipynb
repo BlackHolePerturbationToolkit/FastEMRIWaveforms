{
 "cells": [
  {
   "cell_type": "markdown",
   "metadata": {},
   "source": [
    "# Testing the Utility Functions"
   ]
  },
  {
   "cell_type": "code",
   "execution_count": 1,
   "metadata": {},
   "outputs": [],
   "source": [
    "import numpy as np"
   ]
  },
  {
   "cell_type": "markdown",
   "metadata": {},
   "source": [
    "## Geting parameters for a certain observation time"
   ]
  },
  {
   "cell_type": "markdown",
   "metadata": {},
   "source": [
    "### get_p_at_t()"
   ]
  },
  {
   "cell_type": "code",
   "execution_count": 2,
   "metadata": {},
   "outputs": [],
   "source": [
    "from few.trajectory.inspiral import EMRIInspiral\n",
    "from few.trajectory.ode import KerrEccEqFlux\n",
    "from few.trajectory.ode import SchwarzEccFlux\n",
    "from few.trajectory.ode import PN5\n",
    "from few.utils.utility import get_p_at_t\n",
    "from few.utils.utility import get_separatrix\n",
    "from few.utils.constants import YRSID_SI\n"
   ]
  },
  {
   "cell_type": "code",
   "execution_count": 3,
   "metadata": {},
   "outputs": [],
   "source": [
    "traj_module = EMRIInspiral(func=PN5)"
   ]
  },
  {
   "cell_type": "code",
   "execution_count": 4,
   "metadata": {},
   "outputs": [
    {
     "data": {
      "text/plain": [
       "np.float64(0.0)"
      ]
     },
     "execution_count": 4,
     "metadata": {},
     "output_type": "execute_result"
    }
   ],
   "source": [
    "M = 9700484.894655073\n",
    "mu = 25.806654874357793\n",
    "e0 = 0.3635415084736439\n",
    "# a= 0.6834440767965327\n",
    "a = 0.6834440767965327\n",
    "xI0 = 1.\n",
    "\n",
    "p0 = traj_module.func.min_p(e0,xI0, a)\n",
    "\n",
    "T = 1  # duration of trajectory in years (as defined by few.utils.constants.YRSID_SI)\n",
    "\n",
    "traj_pars = [M, mu, a, p0, e0, xI0]\n",
    "\n",
    "t, p, e, xI, Phi_phi, Phi_theta, Phi_r = traj_module(*traj_pars, T=T)\n",
    "t[-1]\n"
   ]
  },
  {
   "cell_type": "code",
   "execution_count": 5,
   "metadata": {},
   "outputs": [
    {
     "data": {
      "text/plain": [
       "3.935430307309695"
      ]
     },
     "execution_count": 5,
     "metadata": {},
     "output_type": "execute_result"
    }
   ],
   "source": [
    "get_separatrix(a,e[-1],xI0)"
   ]
  },
  {
   "cell_type": "code",
   "execution_count": 6,
   "metadata": {},
   "outputs": [],
   "source": [
    "# So the solution is to run a basic test of running a single trajectory at p_min and see if the legth is less than desired T"
   ]
  },
  {
   "cell_type": "code",
   "execution_count": 7,
   "metadata": {},
   "outputs": [
    {
     "name": "stdout",
     "output_type": "stream",
     "text": [
      "p0 = 4.5709747481067975 will create a waveform that is 1.0 years long, given the other input parameters.\n"
     ]
    }
   ],
   "source": [
    "\n",
    "\n",
    "# set initial parameters\n",
    "M = 9700484.894655073\n",
    "mu = 25.806654874357793\n",
    "e0 = 0.3735415084736439\n",
    "# a= 0.6834440767965327\n",
    "a = 0.6834440767965327\n",
    "x = 1.\n",
    "\n",
    "\n",
    "#M = 1e6\n",
    "#mu = 5e1\n",
    "#e0 = 0.5\n",
    "#a = 0.5\n",
    "#x = 1.\n",
    "\n",
    "traj_args = [M, mu, a, e0, x]\n",
    "traj_kwargs = {}\n",
    "#index_of_p = 3\n",
    "\n",
    "t_out = 1.\n",
    "# run trajectory\n",
    "p_new = get_p_at_t(\n",
    "    traj_module,\n",
    "    t_out,\n",
    "    traj_args,\n",
    "    index_of_p=3,\n",
    "    index_of_a=2,\n",
    "    index_of_e=4,\n",
    "    index_of_x=5,\n",
    "    traj_kwargs={},\n",
    "    xtol=2e-12,\n",
    "    rtol=8.881784197001252e-16,\n",
    "    bounds=None,\n",
    ")\n",
    "\n",
    "print(\n",
    "    \"p0 = {} will create a waveform that is {} years long, given the other input parameters.\".format(\n",
    "        p_new, t_out\n",
    "    )\n",
    ")"
   ]
  },
  {
   "cell_type": "code",
   "execution_count": 8,
   "metadata": {},
   "outputs": [
    {
     "data": {
      "text/plain": [
       "inf"
      ]
     },
     "execution_count": 8,
     "metadata": {},
     "output_type": "execute_result"
    }
   ],
   "source": [
    "traj_module.func.max_p(e0,xI0, a)"
   ]
  },
  {
   "cell_type": "code",
   "execution_count": 9,
   "metadata": {},
   "outputs": [
    {
     "data": {
      "text/plain": [
       "4.04933239343304"
      ]
     },
     "execution_count": 9,
     "metadata": {},
     "output_type": "execute_result"
    }
   ],
   "source": [
    "traj_module.func.min_p(e0,xI0, a)"
   ]
  },
  {
   "cell_type": "code",
   "execution_count": 9,
   "metadata": {},
   "outputs": [],
   "source": [
    "# Jonathan's code\n",
    "\n",
    "import numpy as np\n",
    "import time\n",
    "from tqdm import tqdm\n",
    "from numpy.random import seed, uniform, randint\n",
    "\n",
    "from few.trajectory.inspiral import EMRIInspiral\n",
    "from few.trajectory.ode.flux import KerrEccEqFlux\n",
    "from few.utils.utility import get_p_at_t\n",
    "\n",
    "# 9700484.894655073, 25.806654874357793, 0.7735415084736439, 0.6834440767965327 stuck parameters\n",
    "# 352224.8117850187, 63.9495298217371, 0.424046325083201, 0.7687664552808469\n",
    "\n",
    "def gen_parameters(NEVAL, duration, seed_in=314159):\n",
    "\n",
    "    traj_module = EMRIInspiral(func=KerrEccEqFlux)\n",
    "\n",
    "    M_range = [1E5, 1E7]\n",
    "    mu_range = [1,1E2]\n",
    "    a_range = [0.0, 0.999]\n",
    "    e_range = [0.0, 0.9]\n",
    "\n",
    "    x0 = 1.0  # will be ignored in Schwarzschild waveform\n",
    "    qK = np.pi / 3  # polar spin angle\n",
    "    phiK = np.pi / 3  # azimuthal viewing angle\n",
    "    qS = np.pi / 3  # polar sky angle\n",
    "    phiS = np.pi / 3  # azimuthal viewing angle\n",
    "    distance = 1.0  # distance\n",
    "    # initial phases\n",
    "    Phi_phi0 = np.pi / 3\n",
    "    Phi_theta0 = 0.0\n",
    "    Phi_r0 = np.pi / 3\n",
    "\n",
    "    _base_params = [\n",
    "        1E5, # M\n",
    "        10,  # mu\n",
    "        0.0, # a\n",
    "        0.0, # p0\n",
    "        0.0, # e0\n",
    "        x0,\n",
    "        distance,\n",
    "        qS,\n",
    "        phiS,\n",
    "        qK,\n",
    "        phiK,\n",
    "        Phi_phi0,\n",
    "        Phi_theta0,\n",
    "        Phi_r0,\n",
    "    ]\n",
    "\n",
    "    seed(seed_in)\n",
    "    M_seed, mu_seed, a_seed, e_seed = randint(1E3, 1E5, size=4)\n",
    "\n",
    "    seed(M_seed)\n",
    "    M_list = uniform(low=M_range[0], high=M_range[1], size=NEVAL)\n",
    "    seed(mu_seed)\n",
    "    mu_list = uniform(low=mu_range[0], high=mu_range[1], size=NEVAL)\n",
    "    seed(a_seed)\n",
    "    a_list = uniform(low=a_range[0], high=a_range[1], size=NEVAL)\n",
    "    seed(e_seed)\n",
    "    e_list = uniform(low=e_range[0], high=e_range[1], size=NEVAL)\n",
    "\n",
    "    output_params_list = []\n",
    "    failed_params_list = []\n",
    "\n",
    "    for i, (M, mu, a, e) in enumerate(zip(\n",
    "        M_list,\n",
    "        mu_list,\n",
    "        a_list,\n",
    "        e_list,\n",
    "    )):\n",
    "\n",
    "        try:\n",
    "            print(f\"{i+1}:\\t{M}, {mu}, {a}, {e}\")\n",
    "            updated_params = _base_params.copy()\n",
    "\n",
    "            updated_params[0] = M\n",
    "            updated_params[1] = mu\n",
    "            updated_params[2] = a\n",
    "            updated_params[4] = e\n",
    "            updated_params[3] = get_p_at_t(\n",
    "                traj_module,\n",
    "                duration,\n",
    "                [updated_params[0], updated_params[1], updated_params[2], updated_params[4], 1.0],\n",
    "                index_of_p=3,\n",
    "                index_of_a=2,\n",
    "                index_of_e=4,\n",
    "                index_of_x=5,\n",
    "                traj_kwargs={},\n",
    "                xtol=2e-6,\n",
    "                rtol=8.881784197001252e-6,\n",
    "            )\n",
    "\n",
    "            output_params_list.append(\n",
    "                updated_params.copy()\n",
    "            )\n",
    "        except ValueError:\n",
    "            failed_params_list.append([M, mu, a, e, duration])\n",
    "\n",
    "    return output_params_list, failed_params_list"
   ]
  },
  {
   "cell_type": "code",
   "execution_count": 10,
   "metadata": {},
   "outputs": [
    {
     "name": "stdout",
     "output_type": "stream",
     "text": [
      "1:\t4764015.007878976, 76.30135464800664, 0.63318417867749, 0.8456229611488303\n",
      "Starting test trajectory...\n",
      "2:\t405138.27078034176, 57.92882280685928, 0.9596893939803604, 0.3002036475817836\n",
      "Starting test trajectory...\n",
      "Finished test trajectory, now root finding.\n",
      "3:\t8372808.520218218, 74.23299497076685, 0.1930017897348381, 0.07946030164068162\n",
      "Starting test trajectory...\n",
      "Finished test trajectory, now root finding.\n",
      "4:\t4074835.2228096314, 57.535395387365696, 0.6621717980216931, 0.48554296876549025\n",
      "Starting test trajectory...\n",
      "Finished test trajectory, now root finding.\n",
      "5:\t2794363.1955887587, 11.336815434452838, 0.535795768443508, 0.01380994016270073\n",
      "Starting test trajectory...\n",
      "Finished test trajectory, now root finding.\n",
      "6:\t693809.2892725696, 68.63193763609031, 0.2854399989584721, 0.49341461766701\n",
      "Starting test trajectory...\n",
      "Finished test trajectory, now root finding.\n",
      "7:\t5596928.061793652, 8.306124293891408, 0.9815520046048689, 0.21864875057358743\n",
      "Starting test trajectory...\n",
      "Finished test trajectory, now root finding.\n",
      "8:\t1336037.06213522, 33.84247930148765, 0.7055587713090156, 0.5633862259178087\n",
      "Starting test trajectory...\n",
      "Finished test trajectory, now root finding.\n",
      "9:\t217423.01029897065, 34.69606751432639, 0.5002460499609177, 0.7329960975068831\n",
      "Starting test trajectory...\n",
      "Finished test trajectory, now root finding.\n",
      "10:\t561684.6512129776, 41.664308844263566, 0.9540268449924643, 0.33486443888147327\n",
      "Starting test trajectory...\n",
      "Finished test trajectory, now root finding.\n",
      "11:\t9298980.216267163, 67.36761824107204, 0.40506790450399566, 0.7939597304725895\n",
      "Starting test trajectory...\n",
      "12:\t9379060.243887449, 86.73605103280993, 0.8915196190773511, 0.5623473996954678\n",
      "Starting test trajectory...\n",
      "Finished test trajectory, now root finding.\n",
      "13:\t2525355.5822970695, 21.354921949057, 0.09237024459604093, 0.36081521056078736\n",
      "Starting test trajectory...\n",
      "Finished test trajectory, now root finding.\n",
      "14:\t6255280.066795826, 33.77372273772914, 0.8945641763541183, 0.3130779176054787\n",
      "Starting test trajectory...\n",
      "Finished test trajectory, now root finding.\n",
      "15:\t5770293.064554656, 73.60364514604791, 0.21349236204259886, 0.4623475720752977\n",
      "Starting test trajectory...\n",
      "Finished test trajectory, now root finding.\n",
      "16:\t5241481.996200107, 57.74376458970125, 0.304691395455728, 0.8692127811899373\n",
      "Starting test trajectory...\n",
      "17:\t9097134.865394251, 59.721161371586845, 0.10860157102849673, 0.2879777375759938\n",
      "Starting test trajectory...\n",
      "Finished test trajectory, now root finding.\n",
      "18:\t898227.6832407498, 35.977389136209865, 0.39245073205238495, 0.8821005649621463\n",
      "Starting test trajectory...\n",
      "19:\t444350.28827712516, 82.14622280697239, 0.38499813564621654, 0.8190103692006981\n",
      "Starting test trajectory...\n",
      "Finished test trajectory, now root finding.\n",
      "20:\t1620584.2700707614, 41.61222389398249, 0.1494573750459308, 0.2105396094707099\n",
      "Starting test trajectory...\n",
      "Finished test trajectory, now root finding.\n",
      "21:\t2006175.0471067957, 86.4785512692156, 0.32105782402980043, 0.7108939822791092\n",
      "Starting test trajectory...\n",
      "Finished test trajectory, now root finding.\n",
      "22:\t1123828.2271603635, 59.393704901494154, 0.026328567833315136, 0.10516766955594571\n",
      "Starting test trajectory...\n",
      "Finished test trajectory, now root finding.\n",
      "23:\t7868819.612991231, 32.66673531546465, 0.14758127145993244, 0.586178769985498\n",
      "Starting test trajectory...\n",
      "Finished test trajectory, now root finding.\n",
      "24:\t960854.1773450563, 46.5639414342649, 0.8415539274396648, 0.5209029848278441\n",
      "Starting test trajectory...\n",
      "Finished test trajectory, now root finding.\n",
      "25:\t3508645.5436118357, 73.11719749232012, 0.7433731936667397, 0.17803569298746488\n",
      "Starting test trajectory...\n",
      "Finished test trajectory, now root finding.\n"
     ]
    },
    {
     "data": {
      "text/plain": [
       "([[np.float64(405138.27078034176),\n",
       "   np.float64(57.92882280685928),\n",
       "   np.float64(0.9596893939803604),\n",
       "   17.66665558056801,\n",
       "   np.float64(0.3002036475817836),\n",
       "   1.0,\n",
       "   1.0,\n",
       "   1.0471975511965976,\n",
       "   1.0471975511965976,\n",
       "   1.0471975511965976,\n",
       "   1.0471975511965976,\n",
       "   1.0471975511965976,\n",
       "   0.0,\n",
       "   1.0471975511965976],\n",
       "  [np.float64(8372808.520218218),\n",
       "   np.float64(74.23299497076685),\n",
       "   np.float64(0.1930017897348381),\n",
       "   6.735135672565944,\n",
       "   np.float64(0.07946030164068162),\n",
       "   1.0,\n",
       "   1.0,\n",
       "   1.0471975511965976,\n",
       "   1.0471975511965976,\n",
       "   1.0471975511965976,\n",
       "   1.0471975511965976,\n",
       "   1.0471975511965976,\n",
       "   0.0,\n",
       "   1.0471975511965976],\n",
       "  [np.float64(4074835.2228096314),\n",
       "   np.float64(57.535395387365696),\n",
       "   np.float64(0.6621717980216931),\n",
       "   6.339448996765999,\n",
       "   np.float64(0.48554296876549025),\n",
       "   1.0,\n",
       "   1.0,\n",
       "   1.0471975511965976,\n",
       "   1.0471975511965976,\n",
       "   1.0471975511965976,\n",
       "   1.0471975511965976,\n",
       "   1.0471975511965976,\n",
       "   0.0,\n",
       "   1.0471975511965976],\n",
       "  [np.float64(2794363.1955887587),\n",
       "   np.float64(11.336815434452838),\n",
       "   np.float64(0.535795768443508),\n",
       "   5.860814609287641,\n",
       "   np.float64(0.01380994016270073),\n",
       "   1.0,\n",
       "   1.0,\n",
       "   1.0471975511965976,\n",
       "   1.0471975511965976,\n",
       "   1.0471975511965976,\n",
       "   1.0471975511965976,\n",
       "   1.0471975511965976,\n",
       "   0.0,\n",
       "   1.0471975511965976],\n",
       "  [np.float64(693809.2892725696),\n",
       "   np.float64(68.63193763609031),\n",
       "   np.float64(0.2854399989584721),\n",
       "   14.846198900352956,\n",
       "   np.float64(0.49341461766701),\n",
       "   1.0,\n",
       "   1.0,\n",
       "   1.0471975511965976,\n",
       "   1.0471975511965976,\n",
       "   1.0471975511965976,\n",
       "   1.0471975511965976,\n",
       "   1.0471975511965976,\n",
       "   0.0,\n",
       "   1.0471975511965976],\n",
       "  [np.float64(5596928.061793652),\n",
       "   np.float64(8.306124293891408),\n",
       "   np.float64(0.9815520046048689),\n",
       "   2.553082301704951,\n",
       "   np.float64(0.21864875057358743),\n",
       "   1.0,\n",
       "   1.0,\n",
       "   1.0471975511965976,\n",
       "   1.0471975511965976,\n",
       "   1.0471975511965976,\n",
       "   1.0471975511965976,\n",
       "   1.0471975511965976,\n",
       "   0.0,\n",
       "   1.0471975511965976],\n",
       "  [np.float64(1336037.06213522),\n",
       "   np.float64(33.84247930148765),\n",
       "   np.float64(0.7055587713090156),\n",
       "   8.707190891586233,\n",
       "   np.float64(0.5633862259178087),\n",
       "   1.0,\n",
       "   1.0,\n",
       "   1.0471975511965976,\n",
       "   1.0471975511965976,\n",
       "   1.0471975511965976,\n",
       "   1.0471975511965976,\n",
       "   1.0471975511965976,\n",
       "   0.0,\n",
       "   1.0471975511965976],\n",
       "  [np.float64(217423.01029897065),\n",
       "   np.float64(34.69606751432639),\n",
       "   np.float64(0.5002460499609177),\n",
       "   20.262491810804754,\n",
       "   np.float64(0.7329960975068831),\n",
       "   1.0,\n",
       "   1.0,\n",
       "   1.0471975511965976,\n",
       "   1.0471975511965976,\n",
       "   1.0471975511965976,\n",
       "   1.0471975511965976,\n",
       "   1.0471975511965976,\n",
       "   0.0,\n",
       "   1.0471975511965976],\n",
       "  [np.float64(561684.6512129776),\n",
       "   np.float64(41.664308844263566),\n",
       "   np.float64(0.9540268449924643),\n",
       "   13.681054217268716,\n",
       "   np.float64(0.33486443888147327),\n",
       "   1.0,\n",
       "   1.0,\n",
       "   1.0471975511965976,\n",
       "   1.0471975511965976,\n",
       "   1.0471975511965976,\n",
       "   1.0471975511965976,\n",
       "   1.0471975511965976,\n",
       "   0.0,\n",
       "   1.0471975511965976],\n",
       "  [np.float64(9379060.243887449),\n",
       "   np.float64(86.73605103280993),\n",
       "   np.float64(0.8915196190773511),\n",
       "   4.2164173171591806,\n",
       "   np.float64(0.5623473996954678),\n",
       "   1.0,\n",
       "   1.0,\n",
       "   1.0471975511965976,\n",
       "   1.0471975511965976,\n",
       "   1.0471975511965976,\n",
       "   1.0471975511965976,\n",
       "   1.0471975511965976,\n",
       "   0.0,\n",
       "   1.0471975511965976],\n",
       "  [np.float64(2525355.5822970695),\n",
       "   np.float64(21.354921949057),\n",
       "   np.float64(0.09237024459604093),\n",
       "   8.074221527242491,\n",
       "   np.float64(0.36081521056078736),\n",
       "   1.0,\n",
       "   1.0,\n",
       "   1.0471975511965976,\n",
       "   1.0471975511965976,\n",
       "   1.0471975511965976,\n",
       "   1.0471975511965976,\n",
       "   1.0471975511965976,\n",
       "   0.0,\n",
       "   1.0471975511965976],\n",
       "  [np.float64(6255280.066795826),\n",
       "   np.float64(33.77372273772914),\n",
       "   np.float64(0.8945641763541183),\n",
       "   4.067924803011342,\n",
       "   np.float64(0.3130779176054787),\n",
       "   1.0,\n",
       "   1.0,\n",
       "   1.0471975511965976,\n",
       "   1.0471975511965976,\n",
       "   1.0471975511965976,\n",
       "   1.0471975511965976,\n",
       "   1.0471975511965976,\n",
       "   0.0,\n",
       "   1.0471975511965976],\n",
       "  [np.float64(5770293.064554656),\n",
       "   np.float64(73.60364514604791),\n",
       "   np.float64(0.21349236204259886),\n",
       "   7.44449185702399,\n",
       "   np.float64(0.4623475720752977),\n",
       "   1.0,\n",
       "   1.0,\n",
       "   1.0471975511965976,\n",
       "   1.0471975511965976,\n",
       "   1.0471975511965976,\n",
       "   1.0471975511965976,\n",
       "   1.0471975511965976,\n",
       "   0.0,\n",
       "   1.0471975511965976],\n",
       "  [np.float64(9097134.865394251),\n",
       "   np.float64(59.721161371586845),\n",
       "   np.float64(0.10860157102849673),\n",
       "   6.992456115214702,\n",
       "   np.float64(0.2879777375759938),\n",
       "   1.0,\n",
       "   1.0,\n",
       "   1.0471975511965976,\n",
       "   1.0471975511965976,\n",
       "   1.0471975511965976,\n",
       "   1.0471975511965976,\n",
       "   1.0471975511965976,\n",
       "   0.0,\n",
       "   1.0471975511965976],\n",
       "  [np.float64(444350.28827712516),\n",
       "   np.float64(82.14622280697239),\n",
       "   np.float64(0.38499813564621654),\n",
       "   17.066914384861658,\n",
       "   np.float64(0.8190103692006981),\n",
       "   1.0,\n",
       "   1.0,\n",
       "   1.0471975511965976,\n",
       "   1.0471975511965976,\n",
       "   1.0471975511965976,\n",
       "   1.0471975511965976,\n",
       "   1.0471975511965976,\n",
       "   0.0,\n",
       "   1.0471975511965976],\n",
       "  [np.float64(1620584.2700707614),\n",
       "   np.float64(41.61222389398249),\n",
       "   np.float64(0.1494573750459308),\n",
       "   9.83964602000103,\n",
       "   np.float64(0.2105396094707099),\n",
       "   1.0,\n",
       "   1.0,\n",
       "   1.0471975511965976,\n",
       "   1.0471975511965976,\n",
       "   1.0471975511965976,\n",
       "   1.0471975511965976,\n",
       "   1.0471975511965976,\n",
       "   0.0,\n",
       "   1.0471975511965976],\n",
       "  [np.float64(2006175.0471067957),\n",
       "   np.float64(86.4785512692156),\n",
       "   np.float64(0.32105782402980043),\n",
       "   9.682352266008687,\n",
       "   np.float64(0.7108939822791092),\n",
       "   1.0,\n",
       "   1.0,\n",
       "   1.0471975511965976,\n",
       "   1.0471975511965976,\n",
       "   1.0471975511965976,\n",
       "   1.0471975511965976,\n",
       "   1.0471975511965976,\n",
       "   0.0,\n",
       "   1.0471975511965976],\n",
       "  [np.float64(1123828.2271603635),\n",
       "   np.float64(59.393704901494154),\n",
       "   np.float64(0.026328567833315136),\n",
       "   12.337436651048726,\n",
       "   np.float64(0.10516766955594571),\n",
       "   1.0,\n",
       "   1.0,\n",
       "   1.0471975511965976,\n",
       "   1.0471975511965976,\n",
       "   1.0471975511965976,\n",
       "   1.0471975511965976,\n",
       "   1.0471975511965976,\n",
       "   0.0,\n",
       "   1.0471975511965976],\n",
       "  [np.float64(7868819.612991231),\n",
       "   np.float64(32.66673531546465),\n",
       "   np.float64(0.14758127145993244),\n",
       "   7.138095611375907,\n",
       "   np.float64(0.586178769985498),\n",
       "   1.0,\n",
       "   1.0,\n",
       "   1.0471975511965976,\n",
       "   1.0471975511965976,\n",
       "   1.0471975511965976,\n",
       "   1.0471975511965976,\n",
       "   1.0471975511965976,\n",
       "   0.0,\n",
       "   1.0471975511965976],\n",
       "  [np.float64(960854.1773450563),\n",
       "   np.float64(46.5639414342649),\n",
       "   np.float64(0.8415539274396648),\n",
       "   10.70163364560923,\n",
       "   np.float64(0.5209029848278441),\n",
       "   1.0,\n",
       "   1.0,\n",
       "   1.0471975511965976,\n",
       "   1.0471975511965976,\n",
       "   1.0471975511965976,\n",
       "   1.0471975511965976,\n",
       "   1.0471975511965976,\n",
       "   0.0,\n",
       "   1.0471975511965976],\n",
       "  [np.float64(3508645.5436118357),\n",
       "   np.float64(73.11719749232012),\n",
       "   np.float64(0.7433731936667397),\n",
       "   6.762866445553894,\n",
       "   np.float64(0.17803569298746488),\n",
       "   1.0,\n",
       "   1.0,\n",
       "   1.0471975511965976,\n",
       "   1.0471975511965976,\n",
       "   1.0471975511965976,\n",
       "   1.0471975511965976,\n",
       "   1.0471975511965976,\n",
       "   0.0,\n",
       "   1.0471975511965976]],\n",
       " [[np.float64(4764015.007878976),\n",
       "   np.float64(76.30135464800664),\n",
       "   np.float64(0.63318417867749),\n",
       "   np.float64(0.8456229611488303),\n",
       "   1.0],\n",
       "  [np.float64(9298980.216267163),\n",
       "   np.float64(67.36761824107204),\n",
       "   np.float64(0.40506790450399566),\n",
       "   np.float64(0.7939597304725895),\n",
       "   1.0],\n",
       "  [np.float64(5241481.996200107),\n",
       "   np.float64(57.74376458970125),\n",
       "   np.float64(0.304691395455728),\n",
       "   np.float64(0.8692127811899373),\n",
       "   1.0],\n",
       "  [np.float64(898227.6832407498),\n",
       "   np.float64(35.977389136209865),\n",
       "   np.float64(0.39245073205238495),\n",
       "   np.float64(0.8821005649621463),\n",
       "   1.0]])"
      ]
     },
     "execution_count": 10,
     "metadata": {},
     "output_type": "execute_result"
    }
   ],
   "source": [
    "gen_parameters(25, 1., seed_in=314158)"
   ]
  },
  {
   "cell_type": "markdown",
   "metadata": {},
   "source": []
  },
  {
   "cell_type": "code",
   "execution_count": 37,
   "metadata": {},
   "outputs": [
    {
     "data": {
      "text/plain": [
       "4"
      ]
     },
     "execution_count": 37,
     "metadata": {},
     "output_type": "execute_result"
    }
   ],
   "source": [
    "len(params[1])"
   ]
  },
  {
   "cell_type": "code",
   "execution_count": 38,
   "metadata": {},
   "outputs": [
    {
     "name": "stdout",
     "output_type": "stream",
     "text": [
      "p0 = 9.86469161522928 will create a waveform that is 1.0 years long, given the other input parameters.\n"
     ]
    }
   ],
   "source": [
    "p_new = get_p_at_t(\n",
    "    traj_module,\n",
    "    t_out,\n",
    "    params[1][3],\n",
    "    index_of_p=3,\n",
    "    index_of_a=2,\n",
    "    index_of_e=4,\n",
    "    index_of_x=5,\n",
    "    traj_kwargs={},\n",
    "    xtol=2e-12,\n",
    "    rtol=8.881784197001252e-16,\n",
    "    bounds=None,\n",
    ")\n",
    "\n",
    "print(\n",
    "    \"p0 = {} will create a waveform that is {} years long, given the other input parameters.\".format(\n",
    "        p_new, t_out\n",
    "    )\n",
    ")"
   ]
  },
  {
   "cell_type": "markdown",
   "metadata": {},
   "source": [
    "### Now look at get_mu_at_t"
   ]
  },
  {
   "cell_type": "code",
   "execution_count": 34,
   "metadata": {},
   "outputs": [],
   "source": [
    "traj_module = EMRIInspiral(func=KerrEccEqFlux)"
   ]
  },
  {
   "cell_type": "code",
   "execution_count": 20,
   "metadata": {},
   "outputs": [
    {
     "data": {
      "text/plain": [
       "4.128659377262853"
      ]
     },
     "execution_count": 20,
     "metadata": {},
     "output_type": "execute_result"
    }
   ],
   "source": [
    "M = 1e6\n",
    "\n",
    "e0 = 0.5\n",
    "# a= 0.6834440767965327\n",
    "a = 0.6834440767965327\n",
    "x = 1.\n",
    "\n",
    "get_separatrix(a,e0,x)"
   ]
  },
  {
   "cell_type": "code",
   "execution_count": 42,
   "metadata": {},
   "outputs": [
    {
     "data": {
      "text/plain": [
       "7.40201"
      ]
     },
     "execution_count": 42,
     "metadata": {},
     "output_type": "execute_result"
    }
   ],
   "source": [
    "traj_module.func.min_p(0.7,x, 0)"
   ]
  },
  {
   "cell_type": "code",
   "execution_count": 38,
   "metadata": {},
   "outputs": [
    {
     "data": {
      "text/plain": [
       "199.99999"
      ]
     },
     "execution_count": 38,
     "metadata": {},
     "output_type": "execute_result"
    }
   ],
   "source": [
    "traj_module.func.max_p(10,x, a)"
   ]
  },
  {
   "cell_type": "code",
   "execution_count": 25,
   "metadata": {},
   "outputs": [
    {
     "ename": "ValueError",
     "evalue": "No solution found within the bounds for secondary mass.",
     "output_type": "error",
     "traceback": [
      "\u001b[31m---------------------------------------------------------------------------\u001b[39m",
      "\u001b[31mValueError\u001b[39m                                Traceback (most recent call last)",
      "\u001b[36mCell\u001b[39m\u001b[36m \u001b[39m\u001b[32mIn[25]\u001b[39m\u001b[32m, line 11\u001b[39m\n\u001b[32m      9\u001b[39m t_out = \u001b[32m1.\u001b[39m\n\u001b[32m     10\u001b[39m \u001b[38;5;66;03m# run trajectory\u001b[39;00m\n\u001b[32m---> \u001b[39m\u001b[32m11\u001b[39m mu_new = \u001b[43mget_mu_at_t\u001b[49m\u001b[43m(\u001b[49m\n\u001b[32m     12\u001b[39m \u001b[43m    \u001b[49m\u001b[43mtraj_module\u001b[49m\u001b[43m,\u001b[49m\n\u001b[32m     13\u001b[39m \u001b[43m    \u001b[49m\u001b[43mt_out\u001b[49m\u001b[43m,\u001b[49m\n\u001b[32m     14\u001b[39m \u001b[43m    \u001b[49m\u001b[43mtraj_args\u001b[49m\u001b[43m,\u001b[49m\n\u001b[32m     15\u001b[39m \u001b[43m    \u001b[49m\u001b[43mindex_of_mu\u001b[49m\u001b[43m=\u001b[49m\u001b[43mindex_of_mu\u001b[49m\u001b[43m,\u001b[49m\n\u001b[32m     16\u001b[39m \u001b[43m    \u001b[49m\u001b[43mtraj_kwargs\u001b[49m\u001b[43m=\u001b[49m\u001b[43mtraj_kwargs\u001b[49m\u001b[43m,\u001b[49m\n\u001b[32m     17\u001b[39m \u001b[43m    \u001b[49m\u001b[43mxtol\u001b[49m\u001b[43m=\u001b[49m\u001b[32;43m2e-12\u001b[39;49m\u001b[43m,\u001b[49m\n\u001b[32m     18\u001b[39m \u001b[43m    \u001b[49m\u001b[43mrtol\u001b[49m\u001b[43m=\u001b[49m\u001b[32;43m8.881784197001252e-16\u001b[39;49m\u001b[43m,\u001b[49m\n\u001b[32m     19\u001b[39m \u001b[43m    \u001b[49m\u001b[43mbounds\u001b[49m\u001b[43m=\u001b[49m\u001b[38;5;28;43;01mNone\u001b[39;49;00m\u001b[43m,\u001b[49m\n\u001b[32m     20\u001b[39m \u001b[43m)\u001b[49m\n\u001b[32m     22\u001b[39m \u001b[38;5;28mprint\u001b[39m(\n\u001b[32m     23\u001b[39m     \u001b[33m\"\u001b[39m\u001b[33mmu = \u001b[39m\u001b[38;5;132;01m{}\u001b[39;00m\u001b[33m will create a waveform that is \u001b[39m\u001b[38;5;132;01m{}\u001b[39;00m\u001b[33m years long, given the other input parameters.\u001b[39m\u001b[33m\"\u001b[39m.format(\n\u001b[32m     24\u001b[39m         mu_new, t_out\n\u001b[32m     25\u001b[39m     )\n\u001b[32m     26\u001b[39m )\n",
      "\u001b[36mFile \u001b[39m\u001b[32m~/Documents/Codes/FastEMRIWaveforms-Soton-Hackathon-2025/src/few/utils/utility.py:1914\u001b[39m, in \u001b[36mget_mu_at_t\u001b[39m\u001b[34m(traj_module, t_out, traj_args, index_of_mu, bounds, **kwargs)\u001b[39m\n\u001b[32m   1912\u001b[39m  t, p, e, xI, Phi_phi, Phi_theta, Phi_r = traj_module(*traj_pars, T=t_out*\u001b[32m1.001\u001b[39m)\n\u001b[32m   1913\u001b[39m  \u001b[38;5;28;01mif\u001b[39;00m t[-\u001b[32m1\u001b[39m] <= t_out*YRSID_SI:\n\u001b[32m-> \u001b[39m\u001b[32m1914\u001b[39m      \u001b[38;5;28;01mraise\u001b[39;00m \u001b[38;5;167;01mValueError\u001b[39;00m(\u001b[33m\"\u001b[39m\u001b[33mNo solution found within the bounds for secondary mass.\u001b[39m\u001b[33m\"\u001b[39m)\n\u001b[32m   1916\u001b[39m \u001b[38;5;66;03m# Check lower bound\u001b[39;00m\n\u001b[32m   1917\u001b[39m  traj_pars = [traj_args[\u001b[32m0\u001b[39m],bounds[\u001b[32m1\u001b[39m],traj_args[\u001b[32m1\u001b[39m], traj_args[\u001b[32m2\u001b[39m],traj_args[\u001b[32m3\u001b[39m],traj_args[\u001b[32m4\u001b[39m]]\n",
      "\u001b[31mValueError\u001b[39m: No solution found within the bounds for secondary mass."
     ]
    }
   ],
   "source": [
    "# set initial parameters\n",
    "\n",
    "p0 = 7.105\n",
    "\n",
    "traj_args = [M, a, p0, e0, 1.0]\n",
    "traj_kwargs = {}\n",
    "index_of_mu = 1\n",
    "\n",
    "t_out = 1.\n",
    "# run trajectory\n",
    "mu_new = get_mu_at_t(\n",
    "    traj_module,\n",
    "    t_out,\n",
    "    traj_args,\n",
    "    index_of_mu=index_of_mu,\n",
    "    traj_kwargs=traj_kwargs,\n",
    "    xtol=2e-12,\n",
    "    rtol=8.881784197001252e-16,\n",
    "    bounds=None,\n",
    ")\n",
    "\n",
    "print(\n",
    "    \"mu = {} will create a waveform that is {} years long, given the other input parameters.\".format(\n",
    "        mu_new, t_out\n",
    "    )\n",
    ")"
   ]
  },
  {
   "cell_type": "code",
   "execution_count": 27,
   "metadata": {},
   "outputs": [
    {
     "data": {
      "text/plain": [
       "np.float64(-30912992.404976074)"
      ]
     },
     "execution_count": 27,
     "metadata": {},
     "output_type": "execute_result"
    }
   ],
   "source": [
    "mu = 1e-1\n",
    "traj_pars = [M, mu, a, p0, e0, x]\n",
    "\n",
    "t, p, e, xI, Phi_phi, Phi_theta, Phi_r = traj_module(*traj_pars, T=t_out*1.01)\n",
    "t[-1] - t_out*YRSID_SI"
   ]
  },
  {
   "cell_type": "code",
   "execution_count": 18,
   "metadata": {},
   "outputs": [
    {
     "data": {
      "text/plain": [
       "4.128706242479076"
      ]
     },
     "execution_count": 18,
     "metadata": {},
     "output_type": "execute_result"
    }
   ],
   "source": [
    "get_separatrix(a,e[-1],x)"
   ]
  },
  {
   "cell_type": "code",
   "execution_count": 33,
   "metadata": {},
   "outputs": [
    {
     "data": {
      "text/plain": [
       "np.float64(47.6)"
      ]
     },
     "execution_count": 33,
     "metadata": {},
     "output_type": "execute_result"
    }
   ],
   "source": [
    "traj_module.func.max_p(0.0,x,0)"
   ]
  },
  {
   "cell_type": "code",
   "execution_count": 77,
   "metadata": {},
   "outputs": [],
   "source": [
    "import time\n",
    "from tqdm import tqdm\n",
    "from numpy.random import seed, uniform, randint\n",
    "\n",
    "def gen_parameters_get_mu_at_t(NEVAL, duration, seed_in=314159):\n",
    "\n",
    "    traj_module = EMRIInspiral(func=PN5)\n",
    "\n",
    "    M_range = [1E5, 1E7]\n",
    "    p_range = [7.5, 200]\n",
    "    a_range = [0.0, 0.999]\n",
    "    e_range = [0.0, 0.7]\n",
    "\n",
    "    x0 = 1.0  # will be ignored in Schwarzschild waveform\n",
    "    qK = np.pi / 3  # polar spin angle\n",
    "    phiK = np.pi / 3  # azimuthal viewing angle\n",
    "    qS = np.pi / 3  # polar sky angle\n",
    "    phiS = np.pi / 3  # azimuthal viewing angle\n",
    "    distance = 1.0  # distance\n",
    "    # initial phases\n",
    "    Phi_phi0 = np.pi / 3\n",
    "    Phi_theta0 = 0.0\n",
    "    Phi_r0 = np.pi / 3\n",
    "\n",
    "    _base_params = [\n",
    "        1E5, # M\n",
    "        10,  # mu\n",
    "        0.0, # a\n",
    "        0.0, # p0\n",
    "        0.0, # e0\n",
    "        x0,\n",
    "        distance,\n",
    "        qS,\n",
    "        phiS,\n",
    "        qK,\n",
    "        phiK,\n",
    "        Phi_phi0,\n",
    "        Phi_theta0,\n",
    "        Phi_r0,\n",
    "    ]\n",
    "\n",
    "    seed(seed_in)\n",
    "    M_seed, mu_seed, a_seed, e_seed = randint(1E3, 1E5, size=4)\n",
    "\n",
    "    seed(M_seed)\n",
    "    M_list = uniform(low=M_range[0], high=M_range[1], size=NEVAL)\n",
    "    seed(mu_seed)\n",
    "    p_list = uniform(low=p_range[0], high=p_range[1], size=NEVAL)\n",
    "    seed(a_seed)\n",
    "    a_list = uniform(low=a_range[0], high=a_range[1], size=NEVAL)\n",
    "    seed(e_seed)\n",
    "    e_list = uniform(low=e_range[0], high=e_range[1], size=NEVAL)\n",
    "\n",
    "    output_params_list = []\n",
    "    failed_params_list = []\n",
    "\n",
    "    for i, (M, p, a, e) in enumerate(zip(\n",
    "        M_list,\n",
    "        p_list,\n",
    "        a_list,\n",
    "        e_list,\n",
    "    )):\n",
    "\n",
    "        try:\n",
    "            print(f\"{i+1}:\\t{M},{a},{p},{e}\")\n",
    "            updated_params = _base_params.copy()\n",
    "\n",
    "            updated_params[0] = M\n",
    "            updated_params[2] = a\n",
    "            updated_params[3] = p\n",
    "            updated_params[4] = e\n",
    "            updated_params[1] = get_mu_at_t(\n",
    "                traj_module,\n",
    "                duration,\n",
    "                [updated_params[0], updated_params[2], updated_params[3], updated_params[4], 1.0],\n",
    "                traj_kwargs={},\n",
    "                xtol=2e-6,\n",
    "                rtol=8.881784197001252e-6,\n",
    "            )\n",
    "\n",
    "            output_params_list.append(\n",
    "                updated_params.copy()\n",
    "            )\n",
    "        except ValueError:\n",
    "            failed_params_list.append([M, a,p,e, duration])\n",
    "\n",
    "    return output_params_list, failed_params_list"
   ]
  },
  {
   "cell_type": "code",
   "execution_count": 78,
   "metadata": {},
   "outputs": [
    {
     "name": "stdout",
     "output_type": "stream",
     "text": [
      "1:\t7528789.672533787,0.3752060897745056,41.722142159782344,0.651209597986741\n",
      "2:\t1281947.9377273768,0.4580015044762742,184.47614355279518,0.34502973821749355\n",
      "3:\t6470770.719597565,0.6659065663627028,102.14047645312527,0.34951513004817675\n",
      "4:\t334030.98578656407,0.26884300705806474,182.18223772681796,0.10683087524994689\n",
      "5:\t9817473.768935325,0.2672592260103285,94.5420956610437,0.14211248540666205\n",
      "6:\t4606459.965995781,0.40489220444883717,62.82239317548156,0.315185953606297\n",
      "7:\t5833629.230585137,0.6831513118499937,167.71581815318675,0.14864752042927268\n",
      "8:\t5724335.498577699,0.914898707421983,127.87747948757645,0.23268378915847462\n",
      "9:\t9078585.17403247,0.8086310321218645,58.00915090011811,0.5084753347346805\n",
      "10:\t7795387.1860655155,0.364811312088126,174.97946647710185,0.5516399016603034\n",
      "11:\t7777048.420717323,0.07006576152979803,163.78213733229632,0.06239611780731375\n",
      "12:\t984136.430075891,0.5132274913648944,196.05954245070362,0.6351125011665948\n",
      "13:\t118067.84680330544,0.37574066063913947,159.0051353147967,0.30063052911012084\n",
      "14:\t1067859.10810472,0.48174555058964896,27.325648555718434,0.3087510907200777\n",
      "15:\t9301812.744563673,0.24975043286124338,193.03692947125515,0.10581117605106065\n",
      "16:\t711304.9464367304,0.4453183271997462,118.83675608463957,0.5647999121128611\n",
      "17:\t7450971.963367575,0.8368856068911681,15.686356040147516,0.08273800296556078\n",
      "18:\t4414730.879844922,0.8313649189439852,48.080981961325456,0.03527420079288772\n",
      "19:\t3218491.1263205474,0.21432619463550792,104.04499582697389,0.4139456357726405\n",
      "20:\t6942525.8431558525,0.9932491634196301,86.68803130897737,0.5887518079556855\n",
      "21:\t5423946.552566221,0.00938801433392532,15.453113397341648,0.09689152112871416\n",
      "22:\t3978982.441574829,0.4841668911488076,116.0383484978369,0.015526872929156109\n",
      "23:\t7875528.845400005,0.45749120501913687,190.96099938933244,0.29455154997084293\n",
      "24:\t7988376.079829499,0.6519120941374578,97.51193631759782,0.23945399410023913\n",
      "25:\t200623.20277548902,0.8609834849107235,189.26774238733947,0.562957033760929\n"
     ]
    }
   ],
   "source": [
    "params = gen_parameters_get_mu_at_t(25, 1.,314159)"
   ]
  },
  {
   "cell_type": "code",
   "execution_count": 80,
   "metadata": {},
   "outputs": [
    {
     "data": {
      "text/plain": [
       "15"
      ]
     },
     "execution_count": 80,
     "metadata": {},
     "output_type": "execute_result"
    }
   ],
   "source": [
    "len(params[1])"
   ]
  },
  {
   "cell_type": "code",
   "execution_count": 82,
   "metadata": {},
   "outputs": [
    {
     "data": {
      "text/plain": [
       "[np.float64(6470770.719597565),\n",
       " np.float64(0.6659065663627028),\n",
       " np.float64(102.14047645312527),\n",
       " np.float64(0.34951513004817675),\n",
       " 1.0]"
      ]
     },
     "execution_count": 82,
     "metadata": {},
     "output_type": "execute_result"
    }
   ],
   "source": [
    "params[1][1]"
   ]
  },
  {
   "cell_type": "code",
   "execution_count": 83,
   "metadata": {},
   "outputs": [
    {
     "ename": "ValueError",
     "evalue": "No solution found within the bounds for secondary mass.",
     "output_type": "error",
     "traceback": [
      "\u001b[31m---------------------------------------------------------------------------\u001b[39m",
      "\u001b[31mValueError\u001b[39m                                Traceback (most recent call last)",
      "\u001b[36mCell\u001b[39m\u001b[36m \u001b[39m\u001b[32mIn[83]\u001b[39m\u001b[32m, line 7\u001b[39m\n\u001b[32m      5\u001b[39m t_out = \u001b[32m1.\u001b[39m\n\u001b[32m      6\u001b[39m \u001b[38;5;66;03m# run trajectory\u001b[39;00m\n\u001b[32m----> \u001b[39m\u001b[32m7\u001b[39m mu_new = \u001b[43mget_mu_at_t\u001b[49m\u001b[43m(\u001b[49m\n\u001b[32m      8\u001b[39m \u001b[43m    \u001b[49m\u001b[43mtraj_module\u001b[49m\u001b[43m,\u001b[49m\n\u001b[32m      9\u001b[39m \u001b[43m    \u001b[49m\u001b[43mt_out\u001b[49m\u001b[43m,\u001b[49m\n\u001b[32m     10\u001b[39m \u001b[43m    \u001b[49m\u001b[43mtraj_args\u001b[49m\u001b[43m,\u001b[49m\n\u001b[32m     11\u001b[39m \u001b[43m    \u001b[49m\u001b[43mindex_of_mu\u001b[49m\u001b[43m=\u001b[49m\u001b[43mindex_of_mu\u001b[49m\u001b[43m,\u001b[49m\n\u001b[32m     12\u001b[39m \u001b[43m    \u001b[49m\u001b[43mtraj_kwargs\u001b[49m\u001b[43m=\u001b[49m\u001b[43mtraj_kwargs\u001b[49m\u001b[43m,\u001b[49m\n\u001b[32m     13\u001b[39m \u001b[43m    \u001b[49m\u001b[43mxtol\u001b[49m\u001b[43m=\u001b[49m\u001b[32;43m2e-12\u001b[39;49m\u001b[43m,\u001b[49m\n\u001b[32m     14\u001b[39m \u001b[43m    \u001b[49m\u001b[43mrtol\u001b[49m\u001b[43m=\u001b[49m\u001b[32;43m8.881784197001252e-16\u001b[39;49m\u001b[43m,\u001b[49m\n\u001b[32m     15\u001b[39m \u001b[43m    \u001b[49m\u001b[43mbounds\u001b[49m\u001b[43m=\u001b[49m\u001b[38;5;28;43;01mNone\u001b[39;49;00m\u001b[43m,\u001b[49m\n\u001b[32m     16\u001b[39m \u001b[43m)\u001b[49m\n\u001b[32m     18\u001b[39m \u001b[38;5;28mprint\u001b[39m(\n\u001b[32m     19\u001b[39m     \u001b[33m\"\u001b[39m\u001b[33mmu = \u001b[39m\u001b[38;5;132;01m{}\u001b[39;00m\u001b[33m will create a waveform that is \u001b[39m\u001b[38;5;132;01m{}\u001b[39;00m\u001b[33m years long, given the other input parameters.\u001b[39m\u001b[33m\"\u001b[39m.format(\n\u001b[32m     20\u001b[39m         mu_new, t_out\n\u001b[32m     21\u001b[39m     )\n\u001b[32m     22\u001b[39m )\n",
      "\u001b[36mFile \u001b[39m\u001b[32m~/Documents/Codes/FastEMRIWaveforms-Soton-Hackathon-2025/src/few/utils/utility.py:1920\u001b[39m, in \u001b[36mget_mu_at_t\u001b[39m\u001b[34m(traj_module, t_out, traj_args, index_of_mu, bounds, **kwargs)\u001b[39m\n\u001b[32m   1918\u001b[39m t, p, e, xI, Phi_phi, Phi_theta, Phi_r = traj_module(*traj_pars, T=t_out*\u001b[32m1.001\u001b[39m)\n\u001b[32m   1919\u001b[39m \u001b[38;5;28;01mif\u001b[39;00m t[-\u001b[32m1\u001b[39m] >= t_out*YRSID_SI:\n\u001b[32m-> \u001b[39m\u001b[32m1920\u001b[39m     \u001b[38;5;28;01mraise\u001b[39;00m \u001b[38;5;167;01mValueError\u001b[39;00m(\u001b[33m\"\u001b[39m\u001b[33mNo solution found within the bounds for secondary mass.\u001b[39m\u001b[33m\"\u001b[39m)\n\u001b[32m   1923\u001b[39m root = get_at_t(traj_module, traj_args, bounds, t_out, index_of_mu, **kwargs)\n\u001b[32m   1924\u001b[39m \u001b[38;5;28;01mreturn\u001b[39;00m root\n",
      "\u001b[31mValueError\u001b[39m: No solution found within the bounds for secondary mass."
     ]
    }
   ],
   "source": [
    "traj_args = params[1][1]\n",
    "traj_kwargs = {}\n",
    "index_of_mu = 1\n",
    "\n",
    "t_out = 1.\n",
    "# run trajectory\n",
    "mu_new = get_mu_at_t(\n",
    "    traj_module,\n",
    "    t_out,\n",
    "    traj_args,\n",
    "    index_of_mu=index_of_mu,\n",
    "    traj_kwargs=traj_kwargs,\n",
    "    xtol=2e-12,\n",
    "    rtol=8.881784197001252e-16,\n",
    "    bounds=None,\n",
    ")\n",
    "\n",
    "print(\n",
    "    \"mu = {} will create a waveform that is {} years long, given the other input parameters.\".format(\n",
    "        mu_new, t_out\n",
    "    )\n",
    ")"
   ]
  },
  {
   "cell_type": "code",
   "execution_count": null,
   "metadata": {},
   "outputs": [],
   "source": []
  }
 ],
 "metadata": {
  "kernelspec": {
   "display_name": "few_soton",
   "language": "python",
   "name": "python3"
  },
  "language_info": {
   "codemirror_mode": {
    "name": "ipython",
    "version": 3
   },
   "file_extension": ".py",
   "mimetype": "text/x-python",
   "name": "python",
   "nbconvert_exporter": "python",
   "pygments_lexer": "ipython3",
   "version": "3.12.9"
  }
 },
 "nbformat": 4,
 "nbformat_minor": 2
}
